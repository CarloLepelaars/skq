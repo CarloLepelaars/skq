{
 "cells": [
  {
   "cell_type": "markdown",
   "metadata": {},
   "source": [
    "# Bell State \n",
    "\n",
    "To illustrate a multi qubit application of quantum gates, we will create a Bell state. A Bell state is a two qubit state that is maximally entangled."
   ]
  },
  {
   "cell_type": "code",
   "execution_count": 1,
   "metadata": {},
   "outputs": [],
   "source": [
    "import sys\n",
    "sys.path.append('..')"
   ]
  },
  {
   "cell_type": "code",
   "execution_count": 2,
   "metadata": {},
   "outputs": [],
   "source": [
    "import cirq\n",
    "import numpy as np\n",
    "from qiskit import QuantumCircuit\n",
    "from qiskit.primitives import Sampler\n",
    "from qiskit.visualization import plot_histogram\n",
    "import plotly.express as px\n",
    "from sklearn.pipeline import Pipeline, make_pipeline\n",
    "\n",
    "from skq.gates import HGate, CXGate, IGate\n",
    "from skq.qubit_transformers import SingleQubitTransformer, MultiQubitTransformer\n",
    "from skq.measurement import MeasurementTransformer\n",
    "from skq.pipeline import make_quantum_union"
   ]
  },
  {
   "cell_type": "code",
   "execution_count": 3,
   "metadata": {},
   "outputs": [],
   "source": [
    "step1 = make_quantum_union(SingleQubitTransformer(HGate()), SingleQubitTransformer(IGate()))\n",
    "step2 = MultiQubitTransformer(CXGate())\n",
    "step3 = MeasurementTransformer(repeat=1000)\n",
    "\n",
    "pipe = make_pipeline(step1, step2, step3)"
   ]
  },
  {
   "cell_type": "markdown",
   "metadata": {},
   "source": [
    "The quantum union will combine the Hadamard and the Identity matrix through a Kronecker product."
   ]
  },
  {
   "cell_type": "code",
   "execution_count": 4,
   "metadata": {},
   "outputs": [
    {
     "data": {
      "text/html": [
       "<style>#sk-container-id-1 {\n",
       "  /* Definition of color scheme common for light and dark mode */\n",
       "  --sklearn-color-text: black;\n",
       "  --sklearn-color-line: gray;\n",
       "  /* Definition of color scheme for unfitted estimators */\n",
       "  --sklearn-color-unfitted-level-0: #fff5e6;\n",
       "  --sklearn-color-unfitted-level-1: #f6e4d2;\n",
       "  --sklearn-color-unfitted-level-2: #ffe0b3;\n",
       "  --sklearn-color-unfitted-level-3: chocolate;\n",
       "  /* Definition of color scheme for fitted estimators */\n",
       "  --sklearn-color-fitted-level-0: #f0f8ff;\n",
       "  --sklearn-color-fitted-level-1: #d4ebff;\n",
       "  --sklearn-color-fitted-level-2: #b3dbfd;\n",
       "  --sklearn-color-fitted-level-3: cornflowerblue;\n",
       "\n",
       "  /* Specific color for light theme */\n",
       "  --sklearn-color-text-on-default-background: var(--sg-text-color, var(--theme-code-foreground, var(--jp-content-font-color1, black)));\n",
       "  --sklearn-color-background: var(--sg-background-color, var(--theme-background, var(--jp-layout-color0, white)));\n",
       "  --sklearn-color-border-box: var(--sg-text-color, var(--theme-code-foreground, var(--jp-content-font-color1, black)));\n",
       "  --sklearn-color-icon: #696969;\n",
       "\n",
       "  @media (prefers-color-scheme: dark) {\n",
       "    /* Redefinition of color scheme for dark theme */\n",
       "    --sklearn-color-text-on-default-background: var(--sg-text-color, var(--theme-code-foreground, var(--jp-content-font-color1, white)));\n",
       "    --sklearn-color-background: var(--sg-background-color, var(--theme-background, var(--jp-layout-color0, #111)));\n",
       "    --sklearn-color-border-box: var(--sg-text-color, var(--theme-code-foreground, var(--jp-content-font-color1, white)));\n",
       "    --sklearn-color-icon: #878787;\n",
       "  }\n",
       "}\n",
       "\n",
       "#sk-container-id-1 {\n",
       "  color: var(--sklearn-color-text);\n",
       "}\n",
       "\n",
       "#sk-container-id-1 pre {\n",
       "  padding: 0;\n",
       "}\n",
       "\n",
       "#sk-container-id-1 input.sk-hidden--visually {\n",
       "  border: 0;\n",
       "  clip: rect(1px 1px 1px 1px);\n",
       "  clip: rect(1px, 1px, 1px, 1px);\n",
       "  height: 1px;\n",
       "  margin: -1px;\n",
       "  overflow: hidden;\n",
       "  padding: 0;\n",
       "  position: absolute;\n",
       "  width: 1px;\n",
       "}\n",
       "\n",
       "#sk-container-id-1 div.sk-dashed-wrapped {\n",
       "  border: 1px dashed var(--sklearn-color-line);\n",
       "  margin: 0 0.4em 0.5em 0.4em;\n",
       "  box-sizing: border-box;\n",
       "  padding-bottom: 0.4em;\n",
       "  background-color: var(--sklearn-color-background);\n",
       "}\n",
       "\n",
       "#sk-container-id-1 div.sk-container {\n",
       "  /* jupyter's `normalize.less` sets `[hidden] { display: none; }`\n",
       "     but bootstrap.min.css set `[hidden] { display: none !important; }`\n",
       "     so we also need the `!important` here to be able to override the\n",
       "     default hidden behavior on the sphinx rendered scikit-learn.org.\n",
       "     See: https://github.com/scikit-learn/scikit-learn/issues/21755 */\n",
       "  display: inline-block !important;\n",
       "  position: relative;\n",
       "}\n",
       "\n",
       "#sk-container-id-1 div.sk-text-repr-fallback {\n",
       "  display: none;\n",
       "}\n",
       "\n",
       "div.sk-parallel-item,\n",
       "div.sk-serial,\n",
       "div.sk-item {\n",
       "  /* draw centered vertical line to link estimators */\n",
       "  background-image: linear-gradient(var(--sklearn-color-text-on-default-background), var(--sklearn-color-text-on-default-background));\n",
       "  background-size: 2px 100%;\n",
       "  background-repeat: no-repeat;\n",
       "  background-position: center center;\n",
       "}\n",
       "\n",
       "/* Parallel-specific style estimator block */\n",
       "\n",
       "#sk-container-id-1 div.sk-parallel-item::after {\n",
       "  content: \"\";\n",
       "  width: 100%;\n",
       "  border-bottom: 2px solid var(--sklearn-color-text-on-default-background);\n",
       "  flex-grow: 1;\n",
       "}\n",
       "\n",
       "#sk-container-id-1 div.sk-parallel {\n",
       "  display: flex;\n",
       "  align-items: stretch;\n",
       "  justify-content: center;\n",
       "  background-color: var(--sklearn-color-background);\n",
       "  position: relative;\n",
       "}\n",
       "\n",
       "#sk-container-id-1 div.sk-parallel-item {\n",
       "  display: flex;\n",
       "  flex-direction: column;\n",
       "}\n",
       "\n",
       "#sk-container-id-1 div.sk-parallel-item:first-child::after {\n",
       "  align-self: flex-end;\n",
       "  width: 50%;\n",
       "}\n",
       "\n",
       "#sk-container-id-1 div.sk-parallel-item:last-child::after {\n",
       "  align-self: flex-start;\n",
       "  width: 50%;\n",
       "}\n",
       "\n",
       "#sk-container-id-1 div.sk-parallel-item:only-child::after {\n",
       "  width: 0;\n",
       "}\n",
       "\n",
       "/* Serial-specific style estimator block */\n",
       "\n",
       "#sk-container-id-1 div.sk-serial {\n",
       "  display: flex;\n",
       "  flex-direction: column;\n",
       "  align-items: center;\n",
       "  background-color: var(--sklearn-color-background);\n",
       "  padding-right: 1em;\n",
       "  padding-left: 1em;\n",
       "}\n",
       "\n",
       "\n",
       "/* Toggleable style: style used for estimator/Pipeline/ColumnTransformer box that is\n",
       "clickable and can be expanded/collapsed.\n",
       "- Pipeline and ColumnTransformer use this feature and define the default style\n",
       "- Estimators will overwrite some part of the style using the `sk-estimator` class\n",
       "*/\n",
       "\n",
       "/* Pipeline and ColumnTransformer style (default) */\n",
       "\n",
       "#sk-container-id-1 div.sk-toggleable {\n",
       "  /* Default theme specific background. It is overwritten whether we have a\n",
       "  specific estimator or a Pipeline/ColumnTransformer */\n",
       "  background-color: var(--sklearn-color-background);\n",
       "}\n",
       "\n",
       "/* Toggleable label */\n",
       "#sk-container-id-1 label.sk-toggleable__label {\n",
       "  cursor: pointer;\n",
       "  display: block;\n",
       "  width: 100%;\n",
       "  margin-bottom: 0;\n",
       "  padding: 0.5em;\n",
       "  box-sizing: border-box;\n",
       "  text-align: center;\n",
       "}\n",
       "\n",
       "#sk-container-id-1 label.sk-toggleable__label-arrow:before {\n",
       "  /* Arrow on the left of the label */\n",
       "  content: \"▸\";\n",
       "  float: left;\n",
       "  margin-right: 0.25em;\n",
       "  color: var(--sklearn-color-icon);\n",
       "}\n",
       "\n",
       "#sk-container-id-1 label.sk-toggleable__label-arrow:hover:before {\n",
       "  color: var(--sklearn-color-text);\n",
       "}\n",
       "\n",
       "/* Toggleable content - dropdown */\n",
       "\n",
       "#sk-container-id-1 div.sk-toggleable__content {\n",
       "  max-height: 0;\n",
       "  max-width: 0;\n",
       "  overflow: hidden;\n",
       "  text-align: left;\n",
       "  /* unfitted */\n",
       "  background-color: var(--sklearn-color-unfitted-level-0);\n",
       "}\n",
       "\n",
       "#sk-container-id-1 div.sk-toggleable__content.fitted {\n",
       "  /* fitted */\n",
       "  background-color: var(--sklearn-color-fitted-level-0);\n",
       "}\n",
       "\n",
       "#sk-container-id-1 div.sk-toggleable__content pre {\n",
       "  margin: 0.2em;\n",
       "  border-radius: 0.25em;\n",
       "  color: var(--sklearn-color-text);\n",
       "  /* unfitted */\n",
       "  background-color: var(--sklearn-color-unfitted-level-0);\n",
       "}\n",
       "\n",
       "#sk-container-id-1 div.sk-toggleable__content.fitted pre {\n",
       "  /* unfitted */\n",
       "  background-color: var(--sklearn-color-fitted-level-0);\n",
       "}\n",
       "\n",
       "#sk-container-id-1 input.sk-toggleable__control:checked~div.sk-toggleable__content {\n",
       "  /* Expand drop-down */\n",
       "  max-height: 200px;\n",
       "  max-width: 100%;\n",
       "  overflow: auto;\n",
       "}\n",
       "\n",
       "#sk-container-id-1 input.sk-toggleable__control:checked~label.sk-toggleable__label-arrow:before {\n",
       "  content: \"▾\";\n",
       "}\n",
       "\n",
       "/* Pipeline/ColumnTransformer-specific style */\n",
       "\n",
       "#sk-container-id-1 div.sk-label input.sk-toggleable__control:checked~label.sk-toggleable__label {\n",
       "  color: var(--sklearn-color-text);\n",
       "  background-color: var(--sklearn-color-unfitted-level-2);\n",
       "}\n",
       "\n",
       "#sk-container-id-1 div.sk-label.fitted input.sk-toggleable__control:checked~label.sk-toggleable__label {\n",
       "  background-color: var(--sklearn-color-fitted-level-2);\n",
       "}\n",
       "\n",
       "/* Estimator-specific style */\n",
       "\n",
       "/* Colorize estimator box */\n",
       "#sk-container-id-1 div.sk-estimator input.sk-toggleable__control:checked~label.sk-toggleable__label {\n",
       "  /* unfitted */\n",
       "  background-color: var(--sklearn-color-unfitted-level-2);\n",
       "}\n",
       "\n",
       "#sk-container-id-1 div.sk-estimator.fitted input.sk-toggleable__control:checked~label.sk-toggleable__label {\n",
       "  /* fitted */\n",
       "  background-color: var(--sklearn-color-fitted-level-2);\n",
       "}\n",
       "\n",
       "#sk-container-id-1 div.sk-label label.sk-toggleable__label,\n",
       "#sk-container-id-1 div.sk-label label {\n",
       "  /* The background is the default theme color */\n",
       "  color: var(--sklearn-color-text-on-default-background);\n",
       "}\n",
       "\n",
       "/* On hover, darken the color of the background */\n",
       "#sk-container-id-1 div.sk-label:hover label.sk-toggleable__label {\n",
       "  color: var(--sklearn-color-text);\n",
       "  background-color: var(--sklearn-color-unfitted-level-2);\n",
       "}\n",
       "\n",
       "/* Label box, darken color on hover, fitted */\n",
       "#sk-container-id-1 div.sk-label.fitted:hover label.sk-toggleable__label.fitted {\n",
       "  color: var(--sklearn-color-text);\n",
       "  background-color: var(--sklearn-color-fitted-level-2);\n",
       "}\n",
       "\n",
       "/* Estimator label */\n",
       "\n",
       "#sk-container-id-1 div.sk-label label {\n",
       "  font-family: monospace;\n",
       "  font-weight: bold;\n",
       "  display: inline-block;\n",
       "  line-height: 1.2em;\n",
       "}\n",
       "\n",
       "#sk-container-id-1 div.sk-label-container {\n",
       "  text-align: center;\n",
       "}\n",
       "\n",
       "/* Estimator-specific */\n",
       "#sk-container-id-1 div.sk-estimator {\n",
       "  font-family: monospace;\n",
       "  border: 1px dotted var(--sklearn-color-border-box);\n",
       "  border-radius: 0.25em;\n",
       "  box-sizing: border-box;\n",
       "  margin-bottom: 0.5em;\n",
       "  /* unfitted */\n",
       "  background-color: var(--sklearn-color-unfitted-level-0);\n",
       "}\n",
       "\n",
       "#sk-container-id-1 div.sk-estimator.fitted {\n",
       "  /* fitted */\n",
       "  background-color: var(--sklearn-color-fitted-level-0);\n",
       "}\n",
       "\n",
       "/* on hover */\n",
       "#sk-container-id-1 div.sk-estimator:hover {\n",
       "  /* unfitted */\n",
       "  background-color: var(--sklearn-color-unfitted-level-2);\n",
       "}\n",
       "\n",
       "#sk-container-id-1 div.sk-estimator.fitted:hover {\n",
       "  /* fitted */\n",
       "  background-color: var(--sklearn-color-fitted-level-2);\n",
       "}\n",
       "\n",
       "/* Specification for estimator info (e.g. \"i\" and \"?\") */\n",
       "\n",
       "/* Common style for \"i\" and \"?\" */\n",
       "\n",
       ".sk-estimator-doc-link,\n",
       "a:link.sk-estimator-doc-link,\n",
       "a:visited.sk-estimator-doc-link {\n",
       "  float: right;\n",
       "  font-size: smaller;\n",
       "  line-height: 1em;\n",
       "  font-family: monospace;\n",
       "  background-color: var(--sklearn-color-background);\n",
       "  border-radius: 1em;\n",
       "  height: 1em;\n",
       "  width: 1em;\n",
       "  text-decoration: none !important;\n",
       "  margin-left: 1ex;\n",
       "  /* unfitted */\n",
       "  border: var(--sklearn-color-unfitted-level-1) 1pt solid;\n",
       "  color: var(--sklearn-color-unfitted-level-1);\n",
       "}\n",
       "\n",
       ".sk-estimator-doc-link.fitted,\n",
       "a:link.sk-estimator-doc-link.fitted,\n",
       "a:visited.sk-estimator-doc-link.fitted {\n",
       "  /* fitted */\n",
       "  border: var(--sklearn-color-fitted-level-1) 1pt solid;\n",
       "  color: var(--sklearn-color-fitted-level-1);\n",
       "}\n",
       "\n",
       "/* On hover */\n",
       "div.sk-estimator:hover .sk-estimator-doc-link:hover,\n",
       ".sk-estimator-doc-link:hover,\n",
       "div.sk-label-container:hover .sk-estimator-doc-link:hover,\n",
       ".sk-estimator-doc-link:hover {\n",
       "  /* unfitted */\n",
       "  background-color: var(--sklearn-color-unfitted-level-3);\n",
       "  color: var(--sklearn-color-background);\n",
       "  text-decoration: none;\n",
       "}\n",
       "\n",
       "div.sk-estimator.fitted:hover .sk-estimator-doc-link.fitted:hover,\n",
       ".sk-estimator-doc-link.fitted:hover,\n",
       "div.sk-label-container:hover .sk-estimator-doc-link.fitted:hover,\n",
       ".sk-estimator-doc-link.fitted:hover {\n",
       "  /* fitted */\n",
       "  background-color: var(--sklearn-color-fitted-level-3);\n",
       "  color: var(--sklearn-color-background);\n",
       "  text-decoration: none;\n",
       "}\n",
       "\n",
       "/* Span, style for the box shown on hovering the info icon */\n",
       ".sk-estimator-doc-link span {\n",
       "  display: none;\n",
       "  z-index: 9999;\n",
       "  position: relative;\n",
       "  font-weight: normal;\n",
       "  right: .2ex;\n",
       "  padding: .5ex;\n",
       "  margin: .5ex;\n",
       "  width: min-content;\n",
       "  min-width: 20ex;\n",
       "  max-width: 50ex;\n",
       "  color: var(--sklearn-color-text);\n",
       "  box-shadow: 2pt 2pt 4pt #999;\n",
       "  /* unfitted */\n",
       "  background: var(--sklearn-color-unfitted-level-0);\n",
       "  border: .5pt solid var(--sklearn-color-unfitted-level-3);\n",
       "}\n",
       "\n",
       ".sk-estimator-doc-link.fitted span {\n",
       "  /* fitted */\n",
       "  background: var(--sklearn-color-fitted-level-0);\n",
       "  border: var(--sklearn-color-fitted-level-3);\n",
       "}\n",
       "\n",
       ".sk-estimator-doc-link:hover span {\n",
       "  display: block;\n",
       "}\n",
       "\n",
       "/* \"?\"-specific style due to the `<a>` HTML tag */\n",
       "\n",
       "#sk-container-id-1 a.estimator_doc_link {\n",
       "  float: right;\n",
       "  font-size: 1rem;\n",
       "  line-height: 1em;\n",
       "  font-family: monospace;\n",
       "  background-color: var(--sklearn-color-background);\n",
       "  border-radius: 1rem;\n",
       "  height: 1rem;\n",
       "  width: 1rem;\n",
       "  text-decoration: none;\n",
       "  /* unfitted */\n",
       "  color: var(--sklearn-color-unfitted-level-1);\n",
       "  border: var(--sklearn-color-unfitted-level-1) 1pt solid;\n",
       "}\n",
       "\n",
       "#sk-container-id-1 a.estimator_doc_link.fitted {\n",
       "  /* fitted */\n",
       "  border: var(--sklearn-color-fitted-level-1) 1pt solid;\n",
       "  color: var(--sklearn-color-fitted-level-1);\n",
       "}\n",
       "\n",
       "/* On hover */\n",
       "#sk-container-id-1 a.estimator_doc_link:hover {\n",
       "  /* unfitted */\n",
       "  background-color: var(--sklearn-color-unfitted-level-3);\n",
       "  color: var(--sklearn-color-background);\n",
       "  text-decoration: none;\n",
       "}\n",
       "\n",
       "#sk-container-id-1 a.estimator_doc_link.fitted:hover {\n",
       "  /* fitted */\n",
       "  background-color: var(--sklearn-color-fitted-level-3);\n",
       "}\n",
       "</style><div id=\"sk-container-id-1\" class=\"sk-top-container\"><div class=\"sk-text-repr-fallback\"><pre>Pipeline(steps=[(&#x27;quantumfeatureunion&#x27;,\n",
       "                 QuantumFeatureUnion(transformer_list=[(&#x27;singlequbittransformer-1&#x27;,\n",
       "                                                        SingleQubitTransformer(gate=HGate([[ 0.70710678+0.j,  0.70710678+0.j],\n",
       "       [ 0.70710678+0.j, -0.70710678+0.j]]))),\n",
       "                                                       (&#x27;singlequbittransformer-2&#x27;,\n",
       "                                                        SingleQubitTransformer(gate=IGate([[1.+0.j, 0.+0.j],\n",
       "       [0.+0.j, 1.+0.j]])))])),\n",
       "                (&#x27;multiqubittransformer&#x27;,\n",
       "                 MultiQubitTransformer(gate=CXGate([[1.+0.j, 0.+0.j, 0.+0.j, 0.+0.j],\n",
       "        [0.+0.j, 1.+0.j, 0.+0.j, 0.+0.j],\n",
       "        [0.+0.j, 0.+0.j, 0.+0.j, 1.+0.j],\n",
       "        [0.+0.j, 0.+0.j, 1.+0.j, 0.+0.j]]))),\n",
       "                (&#x27;measurementtransformer&#x27;,\n",
       "                 MeasurementTransformer(repeat=1000))])</pre><b>In a Jupyter environment, please rerun this cell to show the HTML representation or trust the notebook. <br />On GitHub, the HTML representation is unable to render, please try loading this page with nbviewer.org.</b></div><div class=\"sk-container\" hidden><div class=\"sk-item sk-dashed-wrapped\"><div class=\"sk-label-container\"><div class=\"sk-label  sk-toggleable\"><input class=\"sk-toggleable__control sk-hidden--visually\" id=\"sk-estimator-id-1\" type=\"checkbox\" ><label for=\"sk-estimator-id-1\" class=\"sk-toggleable__label  sk-toggleable__label-arrow \">&nbsp;&nbsp;Pipeline<a class=\"sk-estimator-doc-link \" rel=\"noreferrer\" target=\"_blank\" href=\"https://scikit-learn.org/1.5/modules/generated/sklearn.pipeline.Pipeline.html\">?<span>Documentation for Pipeline</span></a><span class=\"sk-estimator-doc-link \">i<span>Not fitted</span></span></label><div class=\"sk-toggleable__content \"><pre>Pipeline(steps=[(&#x27;quantumfeatureunion&#x27;,\n",
       "                 QuantumFeatureUnion(transformer_list=[(&#x27;singlequbittransformer-1&#x27;,\n",
       "                                                        SingleQubitTransformer(gate=HGate([[ 0.70710678+0.j,  0.70710678+0.j],\n",
       "       [ 0.70710678+0.j, -0.70710678+0.j]]))),\n",
       "                                                       (&#x27;singlequbittransformer-2&#x27;,\n",
       "                                                        SingleQubitTransformer(gate=IGate([[1.+0.j, 0.+0.j],\n",
       "       [0.+0.j, 1.+0.j]])))])),\n",
       "                (&#x27;multiqubittransformer&#x27;,\n",
       "                 MultiQubitTransformer(gate=CXGate([[1.+0.j, 0.+0.j, 0.+0.j, 0.+0.j],\n",
       "        [0.+0.j, 1.+0.j, 0.+0.j, 0.+0.j],\n",
       "        [0.+0.j, 0.+0.j, 0.+0.j, 1.+0.j],\n",
       "        [0.+0.j, 0.+0.j, 1.+0.j, 0.+0.j]]))),\n",
       "                (&#x27;measurementtransformer&#x27;,\n",
       "                 MeasurementTransformer(repeat=1000))])</pre></div> </div></div><div class=\"sk-serial\"><div class=\"sk-item sk-dashed-wrapped\"><div class=\"sk-label-container\"><div class=\"sk-label  sk-toggleable\"><input class=\"sk-toggleable__control sk-hidden--visually\" id=\"sk-estimator-id-2\" type=\"checkbox\" ><label for=\"sk-estimator-id-2\" class=\"sk-toggleable__label  sk-toggleable__label-arrow \">quantumfeatureunion: QuantumFeatureUnion</label><div class=\"sk-toggleable__content \"><pre>QuantumFeatureUnion(transformer_list=[(&#x27;singlequbittransformer-1&#x27;,\n",
       "                                       SingleQubitTransformer(gate=HGate([[ 0.70710678+0.j,  0.70710678+0.j],\n",
       "       [ 0.70710678+0.j, -0.70710678+0.j]]))),\n",
       "                                      (&#x27;singlequbittransformer-2&#x27;,\n",
       "                                       SingleQubitTransformer(gate=IGate([[1.+0.j, 0.+0.j],\n",
       "       [0.+0.j, 1.+0.j]])))])</pre></div> </div></div><div class=\"sk-parallel\"><div class=\"sk-parallel-item\"><div class=\"sk-item\"><div class=\"sk-label-container\"><div class=\"sk-label  sk-toggleable\"><label>singlequbittransformer-1</label></div></div><div class=\"sk-serial\"><div class=\"sk-item\"><div class=\"sk-estimator  sk-toggleable\"><input class=\"sk-toggleable__control sk-hidden--visually\" id=\"sk-estimator-id-3\" type=\"checkbox\" ><label for=\"sk-estimator-id-3\" class=\"sk-toggleable__label  sk-toggleable__label-arrow \">SingleQubitTransformer</label><div class=\"sk-toggleable__content \"><pre>SingleQubitTransformer(gate=HGate([[ 0.70710678+0.j,  0.70710678+0.j],\n",
       "       [ 0.70710678+0.j, -0.70710678+0.j]]))</pre></div> </div></div></div></div></div><div class=\"sk-parallel-item\"><div class=\"sk-item\"><div class=\"sk-label-container\"><div class=\"sk-label  sk-toggleable\"><label>singlequbittransformer-2</label></div></div><div class=\"sk-serial\"><div class=\"sk-item\"><div class=\"sk-estimator  sk-toggleable\"><input class=\"sk-toggleable__control sk-hidden--visually\" id=\"sk-estimator-id-4\" type=\"checkbox\" ><label for=\"sk-estimator-id-4\" class=\"sk-toggleable__label  sk-toggleable__label-arrow \">SingleQubitTransformer</label><div class=\"sk-toggleable__content \"><pre>SingleQubitTransformer(gate=IGate([[1.+0.j, 0.+0.j],\n",
       "       [0.+0.j, 1.+0.j]]))</pre></div> </div></div></div></div></div></div></div><div class=\"sk-item\"><div class=\"sk-estimator  sk-toggleable\"><input class=\"sk-toggleable__control sk-hidden--visually\" id=\"sk-estimator-id-5\" type=\"checkbox\" ><label for=\"sk-estimator-id-5\" class=\"sk-toggleable__label  sk-toggleable__label-arrow \">MultiQubitTransformer</label><div class=\"sk-toggleable__content \"><pre>MultiQubitTransformer(gate=CXGate([[1.+0.j, 0.+0.j, 0.+0.j, 0.+0.j],\n",
       "        [0.+0.j, 1.+0.j, 0.+0.j, 0.+0.j],\n",
       "        [0.+0.j, 0.+0.j, 0.+0.j, 1.+0.j],\n",
       "        [0.+0.j, 0.+0.j, 1.+0.j, 0.+0.j]]))</pre></div> </div></div><div class=\"sk-item\"><div class=\"sk-estimator  sk-toggleable\"><input class=\"sk-toggleable__control sk-hidden--visually\" id=\"sk-estimator-id-6\" type=\"checkbox\" ><label for=\"sk-estimator-id-6\" class=\"sk-toggleable__label  sk-toggleable__label-arrow \">MeasurementTransformer</label><div class=\"sk-toggleable__content \"><pre>MeasurementTransformer(repeat=1000)</pre></div> </div></div></div></div></div></div>"
      ],
      "text/plain": [
       "Pipeline(steps=[('quantumfeatureunion',\n",
       "                 QuantumFeatureUnion(transformer_list=[('singlequbittransformer-1',\n",
       "                                                        SingleQubitTransformer(gate=HGate([[ 0.70710678+0.j,  0.70710678+0.j],\n",
       "       [ 0.70710678+0.j, -0.70710678+0.j]]))),\n",
       "                                                       ('singlequbittransformer-2',\n",
       "                                                        SingleQubitTransformer(gate=IGate([[1.+0.j, 0.+0.j],\n",
       "       [0.+0.j, 1.+0.j]])))])),\n",
       "                ('multiqubittransformer',\n",
       "                 MultiQubitTransformer(gate=CXGate([[1.+0.j, 0.+0.j, 0.+0.j, 0.+0.j],\n",
       "        [0.+0.j, 1.+0.j, 0.+0.j, 0.+0.j],\n",
       "        [0.+0.j, 0.+0.j, 0.+0.j, 1.+0.j],\n",
       "        [0.+0.j, 0.+0.j, 1.+0.j, 0.+0.j]]))),\n",
       "                ('measurementtransformer',\n",
       "                 MeasurementTransformer(repeat=1000))])"
      ]
     },
     "execution_count": 4,
     "metadata": {},
     "output_type": "execute_result"
    }
   ],
   "source": [
    "pipe"
   ]
  },
  {
   "cell_type": "code",
   "execution_count": 5,
   "metadata": {},
   "outputs": [],
   "source": [
    "# Transform |00> qubits\n",
    "X = np.array([[1, 0, 0, 0]], dtype=complex)"
   ]
  },
  {
   "cell_type": "markdown",
   "metadata": {},
   "source": [
    "The 2 steps will create the bell state.\n",
    "\n",
    "$$\\frac{1}{\\sqrt{2}}(|00\\rangle + |11\\rangle)$$\n",
    "\n",
    "The 3rd step will measure the qubits to verify the state. This will results in 00 or 11 with equal probability."
   ]
  },
  {
   "cell_type": "code",
   "execution_count": 6,
   "metadata": {},
   "outputs": [
    {
     "data": {
      "text/plain": [
       "array([[0.70710678+0.j, 0.        +0.j, 0.        +0.j, 0.70710678+0.j]])"
      ]
     },
     "execution_count": 6,
     "metadata": {},
     "output_type": "execute_result"
    }
   ],
   "source": [
    "# Bell state as a vector\n",
    "pipe[:-1].transform(X)"
   ]
  },
  {
   "cell_type": "code",
   "execution_count": 7,
   "metadata": {},
   "outputs": [],
   "source": [
    "measurements = pipe.transform(X)"
   ]
  },
  {
   "cell_type": "code",
   "execution_count": 8,
   "metadata": {},
   "outputs": [
    {
     "name": "stdout",
     "output_type": "stream",
     "text": [
      "(1000, 2)\n"
     ]
    },
    {
     "data": {
      "text/plain": [
       "array([[1, 1],\n",
       "       [0, 0],\n",
       "       [1, 1],\n",
       "       [0, 0],\n",
       "       [1, 1]])"
      ]
     },
     "execution_count": 8,
     "metadata": {},
     "output_type": "execute_result"
    }
   ],
   "source": [
    "print(measurements.shape)\n",
    "measurements[:5]"
   ]
  },
  {
   "cell_type": "code",
   "execution_count": 9,
   "metadata": {},
   "outputs": [
    {
     "data": {
      "application/vnd.plotly.v1+json": {
       "config": {
        "plotlyServerURL": "https://plot.ly"
       },
       "data": [
        {
         "alignmentgroup": "True",
         "bingroup": "x",
         "hovertemplate": "Measurement Outcome=%{x}<br>count=%{y}<extra></extra>",
         "legendgroup": "",
         "marker": {
          "color": "#636efa",
          "pattern": {
           "shape": ""
          }
         },
         "name": "",
         "offsetgroup": "",
         "orientation": "v",
         "showlegend": false,
         "texttemplate": "%{value}",
         "type": "histogram",
         "x": [
          "11",
          "00",
          "11",
          "00",
          "11",
          "00",
          "11",
          "11",
          "11",
          "00",
          "00",
          "00",
          "11",
          "00",
          "00",
          "00",
          "00",
          "00",
          "00",
          "11",
          "00",
          "11",
          "00",
          "11",
          "00",
          "11",
          "11",
          "11",
          "00",
          "00",
          "11",
          "11",
          "00",
          "11",
          "11",
          "00",
          "11",
          "00",
          "11",
          "00",
          "00",
          "11",
          "00",
          "00",
          "11",
          "11",
          "00",
          "11",
          "11",
          "11",
          "00",
          "00",
          "00",
          "00",
          "00",
          "00",
          "11",
          "11",
          "11",
          "11",
          "11",
          "11",
          "00",
          "11",
          "11",
          "00",
          "11",
          "00",
          "11",
          "00",
          "00",
          "00",
          "11",
          "11",
          "00",
          "00",
          "11",
          "00",
          "00",
          "11",
          "00",
          "11",
          "00",
          "11",
          "00",
          "11",
          "00",
          "11",
          "00",
          "11",
          "11",
          "11",
          "00",
          "00",
          "11",
          "11",
          "11",
          "00",
          "11",
          "00",
          "11",
          "11",
          "11",
          "11",
          "11",
          "11",
          "11",
          "11",
          "11",
          "11",
          "00",
          "00",
          "11",
          "00",
          "00",
          "11",
          "11",
          "00",
          "11",
          "00",
          "11",
          "11",
          "11",
          "00",
          "11",
          "00",
          "11",
          "11",
          "00",
          "00",
          "11",
          "00",
          "00",
          "11",
          "11",
          "00",
          "11",
          "00",
          "11",
          "00",
          "00",
          "11",
          "00",
          "11",
          "11",
          "00",
          "00",
          "11",
          "00",
          "00",
          "11",
          "11",
          "11",
          "00",
          "00",
          "00",
          "00",
          "00",
          "11",
          "11",
          "11",
          "00",
          "11",
          "11",
          "11",
          "11",
          "11",
          "00",
          "11",
          "11",
          "00",
          "00",
          "00",
          "00",
          "00",
          "00",
          "00",
          "11",
          "00",
          "11",
          "00",
          "11",
          "00",
          "11",
          "00",
          "00",
          "00",
          "00",
          "00",
          "11",
          "11",
          "11",
          "11",
          "00",
          "00",
          "11",
          "11",
          "11",
          "11",
          "00",
          "00",
          "11",
          "11",
          "00",
          "11",
          "00",
          "00",
          "00",
          "11",
          "11",
          "11",
          "11",
          "11",
          "00",
          "00",
          "00",
          "00",
          "00",
          "00",
          "00",
          "00",
          "11",
          "11",
          "00",
          "00",
          "11",
          "11",
          "11",
          "00",
          "00",
          "00",
          "00",
          "11",
          "11",
          "00",
          "00",
          "11",
          "11",
          "00",
          "00",
          "00",
          "00",
          "11",
          "11",
          "00",
          "11",
          "00",
          "11",
          "11",
          "00",
          "00",
          "00",
          "11",
          "00",
          "00",
          "00",
          "11",
          "11",
          "11",
          "11",
          "00",
          "00",
          "00",
          "00",
          "11",
          "11",
          "00",
          "11",
          "11",
          "00",
          "00",
          "11",
          "00",
          "11",
          "00",
          "11",
          "00",
          "00",
          "00",
          "11",
          "11",
          "00",
          "00",
          "00",
          "11",
          "00",
          "11",
          "00",
          "11",
          "00",
          "00",
          "00",
          "00",
          "00",
          "11",
          "11",
          "00",
          "11",
          "11",
          "11",
          "00",
          "11",
          "00",
          "11",
          "00",
          "11",
          "00",
          "00",
          "11",
          "11",
          "00",
          "11",
          "11",
          "11",
          "11",
          "00",
          "00",
          "11",
          "11",
          "11",
          "11",
          "11",
          "11",
          "00",
          "11",
          "11",
          "00",
          "11",
          "00",
          "11",
          "00",
          "11",
          "11",
          "00",
          "11",
          "00",
          "00",
          "00",
          "11",
          "11",
          "11",
          "00",
          "00",
          "00",
          "00",
          "00",
          "00",
          "00",
          "11",
          "00",
          "00",
          "11",
          "11",
          "11",
          "11",
          "00",
          "00",
          "00",
          "11",
          "11",
          "11",
          "11",
          "11",
          "00",
          "00",
          "00",
          "00",
          "11",
          "11",
          "00",
          "11",
          "00",
          "00",
          "11",
          "00",
          "11",
          "00",
          "00",
          "11",
          "00",
          "11",
          "11",
          "11",
          "11",
          "11",
          "00",
          "00",
          "00",
          "11",
          "11",
          "11",
          "00",
          "00",
          "00",
          "11",
          "11",
          "00",
          "00",
          "11",
          "00",
          "11",
          "11",
          "11",
          "00",
          "11",
          "00",
          "11",
          "11",
          "11",
          "11",
          "11",
          "11",
          "00",
          "11",
          "00",
          "00",
          "11",
          "11",
          "00",
          "11",
          "00",
          "00",
          "11",
          "11",
          "11",
          "11",
          "00",
          "00",
          "11",
          "11",
          "11",
          "00",
          "11",
          "00",
          "00",
          "11",
          "11",
          "11",
          "00",
          "00",
          "11",
          "11",
          "00",
          "00",
          "00",
          "00",
          "00",
          "00",
          "11",
          "00",
          "11",
          "11",
          "11",
          "00",
          "00",
          "00",
          "11",
          "00",
          "00",
          "11",
          "00",
          "00",
          "11",
          "00",
          "00",
          "00",
          "00",
          "00",
          "00",
          "00",
          "00",
          "11",
          "11",
          "00",
          "00",
          "00",
          "00",
          "11",
          "11",
          "11",
          "11",
          "11",
          "11",
          "00",
          "00",
          "00",
          "11",
          "00",
          "11",
          "00",
          "00",
          "00",
          "00",
          "11",
          "11",
          "11",
          "11",
          "00",
          "00",
          "11",
          "00",
          "11",
          "11",
          "11",
          "00",
          "00",
          "11",
          "11",
          "11",
          "11",
          "00",
          "00",
          "11",
          "00",
          "00",
          "00",
          "11",
          "00",
          "00",
          "11",
          "00",
          "00",
          "11",
          "00",
          "00",
          "00",
          "11",
          "00",
          "11",
          "00",
          "11",
          "00",
          "00",
          "11",
          "00",
          "00",
          "00",
          "11",
          "11",
          "11",
          "00",
          "11",
          "11",
          "11",
          "00",
          "00",
          "00",
          "00",
          "11",
          "11",
          "00",
          "11",
          "11",
          "11",
          "00",
          "11",
          "11",
          "00",
          "11",
          "00",
          "11",
          "11",
          "11",
          "00",
          "00",
          "11",
          "11",
          "00",
          "11",
          "00",
          "00",
          "11",
          "11",
          "11",
          "11",
          "00",
          "11",
          "00",
          "11",
          "00",
          "00",
          "00",
          "11",
          "00",
          "00",
          "00",
          "11",
          "11",
          "00",
          "11",
          "11",
          "11",
          "00",
          "00",
          "00",
          "11",
          "00",
          "00",
          "00",
          "00",
          "11",
          "00",
          "00",
          "11",
          "11",
          "00",
          "11",
          "11",
          "11",
          "00",
          "00",
          "00",
          "00",
          "00",
          "00",
          "11",
          "11",
          "00",
          "11",
          "11",
          "11",
          "11",
          "00",
          "11",
          "11",
          "00",
          "11",
          "11",
          "00",
          "11",
          "00",
          "11",
          "11",
          "00",
          "11",
          "11",
          "11",
          "00",
          "11",
          "11",
          "00",
          "11",
          "00",
          "11",
          "00",
          "11",
          "11",
          "11",
          "11",
          "11",
          "00",
          "11",
          "00",
          "00",
          "11",
          "11",
          "00",
          "11",
          "00",
          "00",
          "00",
          "00",
          "11",
          "11",
          "11",
          "11",
          "00",
          "11",
          "00",
          "00",
          "11",
          "00",
          "11",
          "11",
          "00",
          "00",
          "11",
          "11",
          "00",
          "00",
          "11",
          "00",
          "00",
          "00",
          "11",
          "00",
          "00",
          "00",
          "00",
          "11",
          "00",
          "00",
          "11",
          "00",
          "11",
          "11",
          "11",
          "00",
          "00",
          "00",
          "11",
          "00",
          "00",
          "11",
          "11",
          "00",
          "11",
          "11",
          "00",
          "00",
          "00",
          "11",
          "00",
          "11",
          "00",
          "00",
          "00",
          "00",
          "11",
          "11",
          "00",
          "00",
          "11",
          "11",
          "11",
          "11",
          "11",
          "00",
          "11",
          "00",
          "11",
          "11",
          "00",
          "00",
          "11",
          "00",
          "11",
          "11",
          "11",
          "11",
          "11",
          "11",
          "11",
          "00",
          "11",
          "00",
          "00",
          "11",
          "00",
          "00",
          "11",
          "00",
          "00",
          "11",
          "00",
          "11",
          "11",
          "00",
          "11",
          "00",
          "11",
          "00",
          "11",
          "11",
          "00",
          "11",
          "11",
          "00",
          "11",
          "11",
          "11",
          "00",
          "11",
          "11",
          "00",
          "00",
          "11",
          "00",
          "00",
          "11",
          "11",
          "11",
          "11",
          "11",
          "11",
          "11",
          "11",
          "00",
          "00",
          "00",
          "11",
          "00",
          "11",
          "11",
          "00",
          "11",
          "00",
          "11",
          "00",
          "11",
          "11",
          "00",
          "00",
          "00",
          "11",
          "11",
          "00",
          "00",
          "11",
          "11",
          "00",
          "11",
          "00",
          "00",
          "00",
          "00",
          "11",
          "11",
          "00",
          "11",
          "00",
          "00",
          "11",
          "11",
          "11",
          "00",
          "00",
          "11",
          "11",
          "11",
          "11",
          "11",
          "11",
          "11",
          "11",
          "00",
          "11",
          "11",
          "00",
          "11",
          "00",
          "11",
          "00",
          "11",
          "11",
          "11",
          "11",
          "00",
          "00",
          "11",
          "00",
          "00",
          "11",
          "11",
          "00",
          "11",
          "11",
          "00",
          "11",
          "00",
          "00",
          "11",
          "00",
          "00",
          "00",
          "11",
          "11",
          "11",
          "11",
          "11",
          "00",
          "00",
          "00",
          "00",
          "11",
          "11",
          "00",
          "11",
          "11",
          "11",
          "00",
          "00",
          "11",
          "11",
          "11",
          "11",
          "11",
          "00",
          "11",
          "00",
          "11",
          "11",
          "00",
          "00",
          "00",
          "00",
          "00",
          "11",
          "00",
          "00",
          "00",
          "11",
          "11",
          "00",
          "00",
          "00",
          "00",
          "11",
          "11",
          "00",
          "11",
          "11",
          "00",
          "00",
          "11",
          "11",
          "00",
          "11",
          "00",
          "11",
          "11",
          "11",
          "11",
          "11",
          "00",
          "11",
          "11",
          "00",
          "00",
          "00",
          "11",
          "11",
          "00",
          "00",
          "00",
          "00",
          "00",
          "00",
          "00",
          "11",
          "00",
          "11",
          "11",
          "11",
          "11",
          "11",
          "11",
          "11",
          "00",
          "00",
          "00",
          "11",
          "00",
          "11",
          "11",
          "11",
          "00",
          "00",
          "11",
          "11",
          "00",
          "11",
          "11",
          "11",
          "11",
          "00",
          "11",
          "11",
          "11",
          "00",
          "11",
          "11",
          "11",
          "00",
          "00",
          "11",
          "00",
          "11",
          "00",
          "00",
          "11",
          "11",
          "00",
          "11",
          "11",
          "11",
          "00",
          "11",
          "00",
          "11",
          "11",
          "00",
          "00",
          "00",
          "00",
          "00",
          "00",
          "11",
          "11",
          "11"
         ],
         "xaxis": "x",
         "yaxis": "y"
        }
       ],
       "layout": {
        "barmode": "relative",
        "legend": {
         "tracegroupgap": 0
        },
        "template": {
         "data": {
          "bar": [
           {
            "error_x": {
             "color": "#2a3f5f"
            },
            "error_y": {
             "color": "#2a3f5f"
            },
            "marker": {
             "line": {
              "color": "#E5ECF6",
              "width": 0.5
             },
             "pattern": {
              "fillmode": "overlay",
              "size": 10,
              "solidity": 0.2
             }
            },
            "type": "bar"
           }
          ],
          "barpolar": [
           {
            "marker": {
             "line": {
              "color": "#E5ECF6",
              "width": 0.5
             },
             "pattern": {
              "fillmode": "overlay",
              "size": 10,
              "solidity": 0.2
             }
            },
            "type": "barpolar"
           }
          ],
          "carpet": [
           {
            "aaxis": {
             "endlinecolor": "#2a3f5f",
             "gridcolor": "white",
             "linecolor": "white",
             "minorgridcolor": "white",
             "startlinecolor": "#2a3f5f"
            },
            "baxis": {
             "endlinecolor": "#2a3f5f",
             "gridcolor": "white",
             "linecolor": "white",
             "minorgridcolor": "white",
             "startlinecolor": "#2a3f5f"
            },
            "type": "carpet"
           }
          ],
          "choropleth": [
           {
            "colorbar": {
             "outlinewidth": 0,
             "ticks": ""
            },
            "type": "choropleth"
           }
          ],
          "contour": [
           {
            "colorbar": {
             "outlinewidth": 0,
             "ticks": ""
            },
            "colorscale": [
             [
              0,
              "#0d0887"
             ],
             [
              0.1111111111111111,
              "#46039f"
             ],
             [
              0.2222222222222222,
              "#7201a8"
             ],
             [
              0.3333333333333333,
              "#9c179e"
             ],
             [
              0.4444444444444444,
              "#bd3786"
             ],
             [
              0.5555555555555556,
              "#d8576b"
             ],
             [
              0.6666666666666666,
              "#ed7953"
             ],
             [
              0.7777777777777778,
              "#fb9f3a"
             ],
             [
              0.8888888888888888,
              "#fdca26"
             ],
             [
              1,
              "#f0f921"
             ]
            ],
            "type": "contour"
           }
          ],
          "contourcarpet": [
           {
            "colorbar": {
             "outlinewidth": 0,
             "ticks": ""
            },
            "type": "contourcarpet"
           }
          ],
          "heatmap": [
           {
            "colorbar": {
             "outlinewidth": 0,
             "ticks": ""
            },
            "colorscale": [
             [
              0,
              "#0d0887"
             ],
             [
              0.1111111111111111,
              "#46039f"
             ],
             [
              0.2222222222222222,
              "#7201a8"
             ],
             [
              0.3333333333333333,
              "#9c179e"
             ],
             [
              0.4444444444444444,
              "#bd3786"
             ],
             [
              0.5555555555555556,
              "#d8576b"
             ],
             [
              0.6666666666666666,
              "#ed7953"
             ],
             [
              0.7777777777777778,
              "#fb9f3a"
             ],
             [
              0.8888888888888888,
              "#fdca26"
             ],
             [
              1,
              "#f0f921"
             ]
            ],
            "type": "heatmap"
           }
          ],
          "heatmapgl": [
           {
            "colorbar": {
             "outlinewidth": 0,
             "ticks": ""
            },
            "colorscale": [
             [
              0,
              "#0d0887"
             ],
             [
              0.1111111111111111,
              "#46039f"
             ],
             [
              0.2222222222222222,
              "#7201a8"
             ],
             [
              0.3333333333333333,
              "#9c179e"
             ],
             [
              0.4444444444444444,
              "#bd3786"
             ],
             [
              0.5555555555555556,
              "#d8576b"
             ],
             [
              0.6666666666666666,
              "#ed7953"
             ],
             [
              0.7777777777777778,
              "#fb9f3a"
             ],
             [
              0.8888888888888888,
              "#fdca26"
             ],
             [
              1,
              "#f0f921"
             ]
            ],
            "type": "heatmapgl"
           }
          ],
          "histogram": [
           {
            "marker": {
             "pattern": {
              "fillmode": "overlay",
              "size": 10,
              "solidity": 0.2
             }
            },
            "type": "histogram"
           }
          ],
          "histogram2d": [
           {
            "colorbar": {
             "outlinewidth": 0,
             "ticks": ""
            },
            "colorscale": [
             [
              0,
              "#0d0887"
             ],
             [
              0.1111111111111111,
              "#46039f"
             ],
             [
              0.2222222222222222,
              "#7201a8"
             ],
             [
              0.3333333333333333,
              "#9c179e"
             ],
             [
              0.4444444444444444,
              "#bd3786"
             ],
             [
              0.5555555555555556,
              "#d8576b"
             ],
             [
              0.6666666666666666,
              "#ed7953"
             ],
             [
              0.7777777777777778,
              "#fb9f3a"
             ],
             [
              0.8888888888888888,
              "#fdca26"
             ],
             [
              1,
              "#f0f921"
             ]
            ],
            "type": "histogram2d"
           }
          ],
          "histogram2dcontour": [
           {
            "colorbar": {
             "outlinewidth": 0,
             "ticks": ""
            },
            "colorscale": [
             [
              0,
              "#0d0887"
             ],
             [
              0.1111111111111111,
              "#46039f"
             ],
             [
              0.2222222222222222,
              "#7201a8"
             ],
             [
              0.3333333333333333,
              "#9c179e"
             ],
             [
              0.4444444444444444,
              "#bd3786"
             ],
             [
              0.5555555555555556,
              "#d8576b"
             ],
             [
              0.6666666666666666,
              "#ed7953"
             ],
             [
              0.7777777777777778,
              "#fb9f3a"
             ],
             [
              0.8888888888888888,
              "#fdca26"
             ],
             [
              1,
              "#f0f921"
             ]
            ],
            "type": "histogram2dcontour"
           }
          ],
          "mesh3d": [
           {
            "colorbar": {
             "outlinewidth": 0,
             "ticks": ""
            },
            "type": "mesh3d"
           }
          ],
          "parcoords": [
           {
            "line": {
             "colorbar": {
              "outlinewidth": 0,
              "ticks": ""
             }
            },
            "type": "parcoords"
           }
          ],
          "pie": [
           {
            "automargin": true,
            "type": "pie"
           }
          ],
          "scatter": [
           {
            "fillpattern": {
             "fillmode": "overlay",
             "size": 10,
             "solidity": 0.2
            },
            "type": "scatter"
           }
          ],
          "scatter3d": [
           {
            "line": {
             "colorbar": {
              "outlinewidth": 0,
              "ticks": ""
             }
            },
            "marker": {
             "colorbar": {
              "outlinewidth": 0,
              "ticks": ""
             }
            },
            "type": "scatter3d"
           }
          ],
          "scattercarpet": [
           {
            "marker": {
             "colorbar": {
              "outlinewidth": 0,
              "ticks": ""
             }
            },
            "type": "scattercarpet"
           }
          ],
          "scattergeo": [
           {
            "marker": {
             "colorbar": {
              "outlinewidth": 0,
              "ticks": ""
             }
            },
            "type": "scattergeo"
           }
          ],
          "scattergl": [
           {
            "marker": {
             "colorbar": {
              "outlinewidth": 0,
              "ticks": ""
             }
            },
            "type": "scattergl"
           }
          ],
          "scattermapbox": [
           {
            "marker": {
             "colorbar": {
              "outlinewidth": 0,
              "ticks": ""
             }
            },
            "type": "scattermapbox"
           }
          ],
          "scatterpolar": [
           {
            "marker": {
             "colorbar": {
              "outlinewidth": 0,
              "ticks": ""
             }
            },
            "type": "scatterpolar"
           }
          ],
          "scatterpolargl": [
           {
            "marker": {
             "colorbar": {
              "outlinewidth": 0,
              "ticks": ""
             }
            },
            "type": "scatterpolargl"
           }
          ],
          "scatterternary": [
           {
            "marker": {
             "colorbar": {
              "outlinewidth": 0,
              "ticks": ""
             }
            },
            "type": "scatterternary"
           }
          ],
          "surface": [
           {
            "colorbar": {
             "outlinewidth": 0,
             "ticks": ""
            },
            "colorscale": [
             [
              0,
              "#0d0887"
             ],
             [
              0.1111111111111111,
              "#46039f"
             ],
             [
              0.2222222222222222,
              "#7201a8"
             ],
             [
              0.3333333333333333,
              "#9c179e"
             ],
             [
              0.4444444444444444,
              "#bd3786"
             ],
             [
              0.5555555555555556,
              "#d8576b"
             ],
             [
              0.6666666666666666,
              "#ed7953"
             ],
             [
              0.7777777777777778,
              "#fb9f3a"
             ],
             [
              0.8888888888888888,
              "#fdca26"
             ],
             [
              1,
              "#f0f921"
             ]
            ],
            "type": "surface"
           }
          ],
          "table": [
           {
            "cells": {
             "fill": {
              "color": "#EBF0F8"
             },
             "line": {
              "color": "white"
             }
            },
            "header": {
             "fill": {
              "color": "#C8D4E3"
             },
             "line": {
              "color": "white"
             }
            },
            "type": "table"
           }
          ]
         },
         "layout": {
          "annotationdefaults": {
           "arrowcolor": "#2a3f5f",
           "arrowhead": 0,
           "arrowwidth": 1
          },
          "autotypenumbers": "strict",
          "coloraxis": {
           "colorbar": {
            "outlinewidth": 0,
            "ticks": ""
           }
          },
          "colorscale": {
           "diverging": [
            [
             0,
             "#8e0152"
            ],
            [
             0.1,
             "#c51b7d"
            ],
            [
             0.2,
             "#de77ae"
            ],
            [
             0.3,
             "#f1b6da"
            ],
            [
             0.4,
             "#fde0ef"
            ],
            [
             0.5,
             "#f7f7f7"
            ],
            [
             0.6,
             "#e6f5d0"
            ],
            [
             0.7,
             "#b8e186"
            ],
            [
             0.8,
             "#7fbc41"
            ],
            [
             0.9,
             "#4d9221"
            ],
            [
             1,
             "#276419"
            ]
           ],
           "sequential": [
            [
             0,
             "#0d0887"
            ],
            [
             0.1111111111111111,
             "#46039f"
            ],
            [
             0.2222222222222222,
             "#7201a8"
            ],
            [
             0.3333333333333333,
             "#9c179e"
            ],
            [
             0.4444444444444444,
             "#bd3786"
            ],
            [
             0.5555555555555556,
             "#d8576b"
            ],
            [
             0.6666666666666666,
             "#ed7953"
            ],
            [
             0.7777777777777778,
             "#fb9f3a"
            ],
            [
             0.8888888888888888,
             "#fdca26"
            ],
            [
             1,
             "#f0f921"
            ]
           ],
           "sequentialminus": [
            [
             0,
             "#0d0887"
            ],
            [
             0.1111111111111111,
             "#46039f"
            ],
            [
             0.2222222222222222,
             "#7201a8"
            ],
            [
             0.3333333333333333,
             "#9c179e"
            ],
            [
             0.4444444444444444,
             "#bd3786"
            ],
            [
             0.5555555555555556,
             "#d8576b"
            ],
            [
             0.6666666666666666,
             "#ed7953"
            ],
            [
             0.7777777777777778,
             "#fb9f3a"
            ],
            [
             0.8888888888888888,
             "#fdca26"
            ],
            [
             1,
             "#f0f921"
            ]
           ]
          },
          "colorway": [
           "#636efa",
           "#EF553B",
           "#00cc96",
           "#ab63fa",
           "#FFA15A",
           "#19d3f3",
           "#FF6692",
           "#B6E880",
           "#FF97FF",
           "#FECB52"
          ],
          "font": {
           "color": "#2a3f5f"
          },
          "geo": {
           "bgcolor": "white",
           "lakecolor": "white",
           "landcolor": "#E5ECF6",
           "showlakes": true,
           "showland": true,
           "subunitcolor": "white"
          },
          "hoverlabel": {
           "align": "left"
          },
          "hovermode": "closest",
          "mapbox": {
           "style": "light"
          },
          "paper_bgcolor": "white",
          "plot_bgcolor": "#E5ECF6",
          "polar": {
           "angularaxis": {
            "gridcolor": "white",
            "linecolor": "white",
            "ticks": ""
           },
           "bgcolor": "#E5ECF6",
           "radialaxis": {
            "gridcolor": "white",
            "linecolor": "white",
            "ticks": ""
           }
          },
          "scene": {
           "xaxis": {
            "backgroundcolor": "#E5ECF6",
            "gridcolor": "white",
            "gridwidth": 2,
            "linecolor": "white",
            "showbackground": true,
            "ticks": "",
            "zerolinecolor": "white"
           },
           "yaxis": {
            "backgroundcolor": "#E5ECF6",
            "gridcolor": "white",
            "gridwidth": 2,
            "linecolor": "white",
            "showbackground": true,
            "ticks": "",
            "zerolinecolor": "white"
           },
           "zaxis": {
            "backgroundcolor": "#E5ECF6",
            "gridcolor": "white",
            "gridwidth": 2,
            "linecolor": "white",
            "showbackground": true,
            "ticks": "",
            "zerolinecolor": "white"
           }
          },
          "shapedefaults": {
           "line": {
            "color": "#2a3f5f"
           }
          },
          "ternary": {
           "aaxis": {
            "gridcolor": "white",
            "linecolor": "white",
            "ticks": ""
           },
           "baxis": {
            "gridcolor": "white",
            "linecolor": "white",
            "ticks": ""
           },
           "bgcolor": "#E5ECF6",
           "caxis": {
            "gridcolor": "white",
            "linecolor": "white",
            "ticks": ""
           }
          },
          "title": {
           "x": 0.05
          },
          "xaxis": {
           "automargin": true,
           "gridcolor": "white",
           "linecolor": "white",
           "ticks": "",
           "title": {
            "standoff": 15
           },
           "zerolinecolor": "white",
           "zerolinewidth": 2
          },
          "yaxis": {
           "automargin": true,
           "gridcolor": "white",
           "linecolor": "white",
           "ticks": "",
           "title": {
            "standoff": 15
           },
           "zerolinecolor": "white",
           "zerolinewidth": 2
          }
         }
        },
        "title": {
         "text": "Measurement Results of Bell State"
        },
        "xaxis": {
         "anchor": "y",
         "domain": [
          0,
          1
         ],
         "title": {
          "text": "Measurement Outcome"
         }
        },
        "yaxis": {
         "anchor": "x",
         "domain": [
          0,
          1
         ],
         "title": {
          "text": "count"
         }
        }
       }
      }
     },
     "metadata": {},
     "output_type": "display_data"
    }
   ],
   "source": [
    "# Convert measurements to a string representation for plotting\n",
    "measurement_strings = [''.join(map(str, m)) for m in measurements]\n",
    "\n",
    "# Plot the results using Plotly\n",
    "fig = px.histogram(measurement_strings, x=measurement_strings, title=\"Measurement Results of Bell State\",\n",
    "                   labels={'x': 'Measurement Outcome', 'y': 'Count'}, text_auto=True)\n",
    "fig.show()"
   ]
  },
  {
   "cell_type": "markdown",
   "metadata": {},
   "source": [
    "# Qiskit"
   ]
  },
  {
   "cell_type": "markdown",
   "metadata": {},
   "source": [
    "Each pipeline can be converted to a Qiskit circuit."
   ]
  },
  {
   "cell_type": "code",
   "execution_count": 10,
   "metadata": {},
   "outputs": [],
   "source": [
    "def pipeline_to_qiskit_circuit(pipeline: Pipeline, num_qubits: int) -> QuantumCircuit:\n",
    "    circuit = QuantumCircuit(num_qubits)\n",
    "    for _, step in pipeline.steps:\n",
    "        if hasattr(step, 'transformer_list'):\n",
    "            for n_qubit, (_, transformer) in enumerate(step.transformer_list):\n",
    "                name = transformer.gate.__class__.__name__\n",
    "                if name == 'IGate':\n",
    "                    continue\n",
    "                qiskit_gate = transformer.gate.to_qiskit_gate()\n",
    "                circuit.append(qiskit_gate, [n_qubit])\n",
    "        elif hasattr(step, 'gate'):\n",
    "            qiskit_gate = step.gate.to_qiskit_gate()\n",
    "            circuit.append(qiskit_gate, range(step.gate.shape[0] // 2))\n",
    "    return circuit"
   ]
  },
  {
   "cell_type": "code",
   "execution_count": 11,
   "metadata": {},
   "outputs": [],
   "source": [
    "qiskit_circuit = pipeline_to_qiskit_circuit(pipe, 2)"
   ]
  },
  {
   "cell_type": "code",
   "execution_count": 12,
   "metadata": {},
   "outputs": [
    {
     "data": {
      "image/png": "[encoded data removed]",
      "text/plain": [
       "<Figure size 287.294x200.667 with 1 Axes>"
      ]
     },
     "execution_count": 12,
     "metadata": {},
     "output_type": "execute_result"
    }
   ],
   "source": [
    "qiskit_circuit.draw('mpl')"
   ]
  },
  {
   "cell_type": "code",
   "execution_count": 13,
   "metadata": {},
   "outputs": [],
   "source": [
    "# Add measurements to the circuit\n",
    "qiskit_circuit.measure_all()"
   ]
  },
  {
   "cell_type": "code",
   "execution_count": 14,
   "metadata": {},
   "outputs": [
    {
     "data": {
      "image/png": "[encoded data removed]",
      "text/plain": [
       "<Figure size 640x480 with 1 Axes>"
      ]
     },
     "metadata": {},
     "output_type": "display_data"
    }
   ],
   "source": [
    "# Run the circuit using the Qiskit Sample\n",
    "results = Sampler().run(qiskit_circuit).result()\n",
    "statistics = results.quasi_dists[0].binary_probabilities()\n",
    "display(plot_histogram(statistics))"
   ]
  },
  {
   "cell_type": "markdown",
   "metadata": {},
   "source": [
    "# Cirq"
   ]
  },
  {
   "cell_type": "markdown",
   "metadata": {},
   "source": [
    "Also, our circuit can be conveniently converted to a Cirq circuit."
   ]
  },
  {
   "cell_type": "code",
   "execution_count": 15,
   "metadata": {},
   "outputs": [],
   "source": [
    "def pipeline_to_cirq_circuit(pipeline: Pipeline, num_qubits: int) -> cirq.Circuit:\n",
    "    qubits = cirq.LineQubit.range(num_qubits)\n",
    "    circuit = cirq.Circuit()\n",
    "    \n",
    "    for _, step in pipeline.steps:\n",
    "        if hasattr(step, 'transformer_list'):\n",
    "            for n_qubit, (_, transformer) in enumerate(step.transformer_list):\n",
    "                gate = transformer.gate\n",
    "                name = gate.__class__.__name__\n",
    "                if name != 'IGate':\n",
    "                    circuit.append(gate.to_cirq_gate(qubits[n_qubit]))\n",
    "        elif hasattr(step, 'gate'):\n",
    "            gate = step.gate\n",
    "            qubit_indices = range(step.gate.shape[0] // 2)\n",
    "            circuit.append(gate.to_cirq_gate(*[qubits[i] for i in qubit_indices]))\n",
    "    return circuit"
   ]
  },
  {
   "cell_type": "code",
   "execution_count": 16,
   "metadata": {},
   "outputs": [],
   "source": [
    "cirq_circuit = pipeline_to_cirq_circuit(pipe, 2)"
   ]
  },
  {
   "cell_type": "code",
   "execution_count": 17,
   "metadata": {},
   "outputs": [],
   "source": [
    "cirq_circuit.append(cirq.measure(*cirq_circuit.all_qubits(), key='result'))"
   ]
  },
  {
   "cell_type": "code",
   "execution_count": 18,
   "metadata": {},
   "outputs": [
    {
     "data": {
      "text/html": [
       "<pre style=\"overflow: auto; white-space: pre;\">                                       ┌                           ┐\n",
       "      ┌                     ┐          │1.+0.j 0.+0.j 0.+0.j 0.+0.j│\n",
       "0: ───│ 0.707+0.j  0.707+0.j│──────────│0.+0.j 1.+0.j 0.+0.j 0.+0.j│───────────M(&#x27;result&#x27;)───\n",
       "      │ 0.707+0.j -0.707+0.j│          │0.+0.j 0.+0.j 0.+0.j 1.+0.j│           │\n",
       "      └                     ┘[HGate]   │0.+0.j 0.+0.j 1.+0.j 0.+0.j│           │\n",
       "                                       └                           ┘[CXGate]   │\n",
       "                                       │                                       │\n",
       "1: ────────────────────────────────────#2──────────────────────────────────────M─────────────</pre>"
      ],
      "text/plain": [
       "                                       ┌                           ┐\n",
       "      ┌                     ┐          │1.+0.j 0.+0.j 0.+0.j 0.+0.j│\n",
       "0: ───│ 0.707+0.j  0.707+0.j│──────────│0.+0.j 1.+0.j 0.+0.j 0.+0.j│───────────M('result')───\n",
       "      │ 0.707+0.j -0.707+0.j│          │0.+0.j 0.+0.j 0.+0.j 1.+0.j│           │\n",
       "      └                     ┘[HGate]   │0.+0.j 0.+0.j 1.+0.j 0.+0.j│           │\n",
       "                                       └                           ┘[CXGate]   │\n",
       "                                       │                                       │\n",
       "1: ────────────────────────────────────#2──────────────────────────────────────M─────────────"
      ]
     },
     "execution_count": 18,
     "metadata": {},
     "output_type": "execute_result"
    }
   ],
   "source": [
    "cirq_circuit"
   ]
  },
  {
   "cell_type": "code",
   "execution_count": 19,
   "metadata": {},
   "outputs": [
    {
     "data": {
      "text/plain": [
       "array([[[1, 1],\n",
       "        [0, 0],\n",
       "        [0, 0],\n",
       "        [1, 1],\n",
       "        [1, 1],\n",
       "        [0, 0],\n",
       "        [0, 0],\n",
       "        [1, 1],\n",
       "        [0, 0],\n",
       "        [1, 1]]], dtype=int8)"
      ]
     },
     "execution_count": 19,
     "metadata": {},
     "output_type": "execute_result"
    }
   ],
   "source": [
    "simulator = cirq.Simulator()\n",
    "result = simulator.run(cirq_circuit, repetitions=10)\n",
    "\n",
    "# Convert result to numpy array\n",
    "result = np.array([list(v) for _, v in result.measurements.items()])\n",
    "result"
   ]
  }
 ],
 "metadata": {
  "kernelspec": {
   "display_name": "q",
   "language": "python",
   "name": "python3"
  },
  "language_info": {
   "codemirror_mode": {
    "name": "ipython",
    "version": 3
   },
   "file_extension": ".py",
   "mimetype": "text/x-python",
   "name": "python",
   "nbconvert_exporter": "python",
   "pygments_lexer": "ipython3",
   "version": "3.12.4"
  }
 },
 "nbformat": 4,
 "nbformat_minor": 2
}
