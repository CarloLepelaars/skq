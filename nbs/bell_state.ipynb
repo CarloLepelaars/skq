{
 "cells": [
  {
   "cell_type": "markdown",
   "metadata": {},
   "source": [
    "# Bell State \n",
    "\n",
    "To illustrate a multi qubit application of quantum gates, we will create a Bell state. A Bell state is a two qubit state that is maximally entangled."
   ]
  },
  {
   "cell_type": "code",
   "execution_count": 1,
   "metadata": {},
   "outputs": [],
   "source": [
    "import sys\n",
    "\n",
    "sys.path.append(\"../\")"
   ]
  },
  {
   "cell_type": "code",
   "execution_count": 2,
   "metadata": {},
   "outputs": [],
   "source": [
    "import numpy as np\n",
    "import plotly.express as px\n",
    "\n",
    "from skq.gates import *\n",
    "from skq.utils import to_bitstring\n",
    "from skq.circuits import BellStates\n",
    "from skq.quantum_info import PhiPlusState"
   ]
  },
  {
   "cell_type": "code",
   "execution_count": 3,
   "metadata": {},
   "outputs": [
    {
     "data": {
      "text/plain": [
       "[<skq.circuits.circuit.Concat at 0x175a09910>,\n",
       " CX([[1.+0.j, 0.+0.j, 0.+0.j, 0.+0.j],\n",
       "     [0.+0.j, 1.+0.j, 0.+0.j, 0.+0.j],\n",
       "     [0.+0.j, 0.+0.j, 0.+0.j, 1.+0.j],\n",
       "     [0.+0.j, 0.+0.j, 1.+0.j, 0.+0.j]])]"
      ]
     },
     "execution_count": 3,
     "metadata": {},
     "output_type": "execute_result"
    }
   ],
   "source": [
    "pipe = BellStates().circuit(configuration=1)\n",
    "pipe"
   ]
  },
  {
   "cell_type": "code",
   "execution_count": 4,
   "metadata": {},
   "outputs": [],
   "source": [
    "# |00> qubits\n",
    "two_qubit_zero_state = np.array([1, 0, 0, 0], dtype=complex)"
   ]
  },
  {
   "cell_type": "markdown",
   "metadata": {},
   "source": [
    "$$\\frac{1}{\\sqrt{2}}(|00\\rangle + |11\\rangle)$$\n",
    "\n",
    "This will result in $|00\\rangle$ or $|11\\rangle$ measured with equal probability."
   ]
  },
  {
   "cell_type": "code",
   "execution_count": 5,
   "metadata": {},
   "outputs": [
    {
     "data": {
      "text/plain": [
       "H([0.70710678+0.j, 0.        +0.j, 0.70710678+0.j, 0.        +0.j])"
      ]
     },
     "execution_count": 5,
     "metadata": {},
     "output_type": "execute_result"
    }
   ],
   "source": [
    "hadamard = pipe[0](two_qubit_zero_state)\n",
    "hadamard"
   ]
  },
  {
   "cell_type": "code",
   "execution_count": 6,
   "metadata": {},
   "outputs": [
    {
     "data": {
      "text/plain": [
       "array([1.+0.j, 0.+0.j, 0.+0.j, 0.+0.j])"
      ]
     },
     "execution_count": 6,
     "metadata": {},
     "output_type": "execute_result"
    }
   ],
   "source": [
    "bell_state = pipe[-1](two_qubit_zero_state)\n",
    "bell_state"
   ]
  },
  {
   "cell_type": "code",
   "execution_count": 7,
   "metadata": {},
   "outputs": [
    {
     "data": {
      "text/plain": [
       "['11', '11', '00', '00', '11']"
      ]
     },
     "execution_count": 7,
     "metadata": {},
     "output_type": "execute_result"
    }
   ],
   "source": [
    "measurements = [np.random.choice([\"00\", \"01\", \"10\", \"11\"], p=np.abs(pipe(two_qubit_zero_state)) ** 2) for _ in range(1000)]\n",
    "measurements[:5]"
   ]
  },
  {
   "cell_type": "code",
   "execution_count": 8,
   "metadata": {},
   "outputs": [
    {
     "data": {
      "text/plain": [
       "['11', '11', '00', '00', '11']"
      ]
     },
     "execution_count": 8,
     "metadata": {},
     "output_type": "execute_result"
    }
   ],
   "source": [
    "# Convert measurements to a string representation for plotting\n",
    "measurement_strings = to_bitstring(measurements)\n",
    "measurement_strings[:5]"
   ]
  },
  {
   "cell_type": "code",
   "execution_count": 9,
   "metadata": {},
   "outputs": [
    {
     "data": {
      "application/vnd.plotly.v1+json": {
       "config": {
        "plotlyServerURL": "https://plot.ly"
       },
       "data": [
        {
         "alignmentgroup": "True",
         "bingroup": "x",
         "hovertemplate": "Measurement Outcome=%{x}<br>count=%{y}<extra></extra>",
         "legendgroup": "",
         "marker": {
          "color": "#636efa",
          "pattern": {
           "shape": ""
          }
         },
         "name": "",
         "offsetgroup": "",
         "orientation": "v",
         "showlegend": false,
         "texttemplate": "%{value}",
         "type": "histogram",
         "x": [
          "11",
          "11",
          "00",
          "00",
          "11",
          "00",
          "00",
          "00",
          "11",
          "11",
          "11",
          "00",
          "11",
          "11",
          "11",
          "00",
          "00",
          "11",
          "11",
          "11",
          "00",
          "00",
          "00",
          "00",
          "00",
          "11",
          "11",
          "11",
          "11",
          "00",
          "11",
          "11",
          "00",
          "11",
          "00",
          "11",
          "11",
          "11",
          "00",
          "11",
          "11",
          "00",
          "00",
          "11",
          "11",
          "11",
          "11",
          "00",
          "00",
          "11",
          "00",
          "11",
          "00",
          "11",
          "00",
          "00",
          "11",
          "00",
          "11",
          "00",
          "00",
          "00",
          "11",
          "11",
          "11",
          "11",
          "11",
          "00",
          "00",
          "00",
          "11",
          "11",
          "00",
          "00",
          "00",
          "11",
          "11",
          "11",
          "00",
          "00",
          "00",
          "00",
          "00",
          "00",
          "00",
          "11",
          "11",
          "11",
          "00",
          "11",
          "11",
          "11",
          "11",
          "00",
          "11",
          "11",
          "00",
          "11",
          "11",
          "00",
          "00",
          "00",
          "00",
          "00",
          "11",
          "11",
          "00",
          "11",
          "11",
          "00",
          "00",
          "11",
          "11",
          "11",
          "11",
          "00",
          "11",
          "11",
          "00",
          "11",
          "00",
          "11",
          "00",
          "11",
          "00",
          "11",
          "00",
          "11",
          "11",
          "00",
          "00",
          "11",
          "00",
          "00",
          "11",
          "11",
          "11",
          "11",
          "11",
          "00",
          "00",
          "00",
          "11",
          "00",
          "00",
          "11",
          "11",
          "00",
          "11",
          "00",
          "11",
          "11",
          "11",
          "00",
          "00",
          "00",
          "00",
          "00",
          "11",
          "11",
          "11",
          "11",
          "11",
          "11",
          "11",
          "11",
          "00",
          "11",
          "00",
          "11",
          "11",
          "11",
          "00",
          "00",
          "00",
          "11",
          "00",
          "00",
          "11",
          "00",
          "11",
          "00",
          "11",
          "11",
          "00",
          "11",
          "11",
          "11",
          "00",
          "00",
          "11",
          "00",
          "11",
          "11",
          "00",
          "00",
          "11",
          "00",
          "11",
          "00",
          "11",
          "11",
          "00",
          "00",
          "11",
          "00",
          "11",
          "00",
          "00",
          "00",
          "11",
          "11",
          "11",
          "00",
          "11",
          "00",
          "00",
          "11",
          "00",
          "11",
          "11",
          "00",
          "00",
          "00",
          "11",
          "11",
          "11",
          "00",
          "00",
          "00",
          "00",
          "00",
          "00",
          "00",
          "00",
          "11",
          "00",
          "11",
          "00",
          "00",
          "11",
          "11",
          "11",
          "00",
          "11",
          "11",
          "00",
          "11",
          "00",
          "00",
          "00",
          "00",
          "11",
          "00",
          "11",
          "00",
          "11",
          "11",
          "00",
          "11",
          "00",
          "11",
          "00",
          "00",
          "11",
          "00",
          "11",
          "11",
          "00",
          "11",
          "00",
          "00",
          "00",
          "00",
          "00",
          "11",
          "11",
          "11",
          "11",
          "11",
          "11",
          "11",
          "00",
          "11",
          "11",
          "00",
          "00",
          "00",
          "00",
          "11",
          "00",
          "11",
          "00",
          "00",
          "00",
          "11",
          "11",
          "00",
          "00",
          "11",
          "00",
          "11",
          "00",
          "00",
          "00",
          "11",
          "00",
          "00",
          "11",
          "00",
          "11",
          "11",
          "00",
          "00",
          "11",
          "11",
          "11",
          "00",
          "00",
          "11",
          "00",
          "00",
          "11",
          "00",
          "00",
          "00",
          "00",
          "00",
          "11",
          "11",
          "00",
          "11",
          "11",
          "00",
          "00",
          "11",
          "11",
          "11",
          "00",
          "11",
          "11",
          "00",
          "00",
          "00",
          "11",
          "00",
          "11",
          "11",
          "00",
          "11",
          "11",
          "11",
          "00",
          "11",
          "00",
          "11",
          "00",
          "00",
          "00",
          "00",
          "00",
          "11",
          "00",
          "00",
          "11",
          "00",
          "00",
          "00",
          "11",
          "00",
          "00",
          "11",
          "00",
          "00",
          "11",
          "11",
          "11",
          "00",
          "11",
          "11",
          "11",
          "11",
          "11",
          "11",
          "00",
          "11",
          "11",
          "00",
          "11",
          "00",
          "00",
          "00",
          "11",
          "00",
          "00",
          "11",
          "00",
          "00",
          "00",
          "11",
          "00",
          "00",
          "00",
          "11",
          "00",
          "11",
          "00",
          "00",
          "00",
          "11",
          "00",
          "00",
          "11",
          "00",
          "00",
          "00",
          "00",
          "00",
          "11",
          "00",
          "00",
          "00",
          "00",
          "11",
          "11",
          "00",
          "11",
          "00",
          "00",
          "11",
          "00",
          "00",
          "00",
          "11",
          "11",
          "11",
          "11",
          "11",
          "00",
          "00",
          "11",
          "11",
          "11",
          "11",
          "00",
          "11",
          "11",
          "11",
          "00",
          "00",
          "11",
          "11",
          "11",
          "11",
          "11",
          "00",
          "11",
          "11",
          "00",
          "00",
          "11",
          "11",
          "00",
          "00",
          "11",
          "00",
          "11",
          "11",
          "00",
          "00",
          "00",
          "00",
          "00",
          "11",
          "11",
          "00",
          "00",
          "00",
          "11",
          "00",
          "00",
          "00",
          "00",
          "11",
          "00",
          "11",
          "00",
          "11",
          "00",
          "11",
          "11",
          "11",
          "11",
          "00",
          "11",
          "00",
          "00",
          "11",
          "11",
          "11",
          "00",
          "11",
          "11",
          "11",
          "00",
          "11",
          "00",
          "00",
          "00",
          "00",
          "11",
          "00",
          "00",
          "00",
          "00",
          "00",
          "11",
          "11",
          "11",
          "00",
          "11",
          "11",
          "00",
          "11",
          "11",
          "11",
          "00",
          "11",
          "11",
          "00",
          "00",
          "11",
          "00",
          "11",
          "11",
          "11",
          "11",
          "00",
          "11",
          "11",
          "11",
          "00",
          "00",
          "00",
          "11",
          "11",
          "11",
          "11",
          "00",
          "11",
          "00",
          "00",
          "00",
          "11",
          "00",
          "00",
          "00",
          "00",
          "11",
          "00",
          "11",
          "11",
          "11",
          "00",
          "00",
          "00",
          "11",
          "11",
          "00",
          "11",
          "00",
          "00",
          "00",
          "11",
          "11",
          "11",
          "00",
          "00",
          "00",
          "11",
          "00",
          "00",
          "11",
          "11",
          "11",
          "11",
          "11",
          "11",
          "11",
          "11",
          "11",
          "11",
          "00",
          "00",
          "11",
          "11",
          "11",
          "00",
          "00",
          "11",
          "00",
          "11",
          "00",
          "11",
          "00",
          "00",
          "00",
          "11",
          "00",
          "11",
          "00",
          "00",
          "11",
          "11",
          "00",
          "11",
          "11",
          "11",
          "00",
          "11",
          "11",
          "11",
          "11",
          "11",
          "11",
          "00",
          "11",
          "11",
          "11",
          "11",
          "00",
          "11",
          "00",
          "11",
          "11",
          "11",
          "00",
          "11",
          "11",
          "11",
          "11",
          "00",
          "11",
          "11",
          "11",
          "00",
          "00",
          "00",
          "00",
          "00",
          "11",
          "00",
          "00",
          "11",
          "11",
          "00",
          "00",
          "00",
          "11",
          "00",
          "11",
          "11",
          "11",
          "00",
          "11",
          "11",
          "11",
          "00",
          "00",
          "00",
          "00",
          "11",
          "11",
          "00",
          "00",
          "00",
          "00",
          "00",
          "11",
          "00",
          "11",
          "00",
          "00",
          "11",
          "11",
          "00",
          "00",
          "00",
          "11",
          "00",
          "00",
          "11",
          "11",
          "00",
          "00",
          "00",
          "00",
          "11",
          "00",
          "11",
          "00",
          "11",
          "11",
          "11",
          "11",
          "00",
          "11",
          "00",
          "11",
          "00",
          "11",
          "00",
          "00",
          "00",
          "11",
          "11",
          "00",
          "00",
          "11",
          "11",
          "00",
          "11",
          "00",
          "11",
          "11",
          "11",
          "00",
          "00",
          "11",
          "11",
          "11",
          "00",
          "11",
          "00",
          "00",
          "00",
          "00",
          "11",
          "00",
          "11",
          "00",
          "11",
          "00",
          "00",
          "00",
          "11",
          "00",
          "00",
          "00",
          "11",
          "00",
          "00",
          "11",
          "00",
          "00",
          "00",
          "11",
          "00",
          "00",
          "00",
          "11",
          "00",
          "11",
          "00",
          "11",
          "11",
          "00",
          "11",
          "00",
          "11",
          "00",
          "11",
          "00",
          "11",
          "00",
          "00",
          "11",
          "00",
          "00",
          "11",
          "11",
          "00",
          "11",
          "11",
          "00",
          "00",
          "11",
          "11",
          "00",
          "11",
          "11",
          "11",
          "00",
          "00",
          "00",
          "11",
          "11",
          "00",
          "00",
          "11",
          "11",
          "00",
          "11",
          "00",
          "11",
          "11",
          "11",
          "00",
          "11",
          "11",
          "00",
          "11",
          "00",
          "00",
          "11",
          "00",
          "00",
          "00",
          "00",
          "11",
          "11",
          "00",
          "00",
          "11",
          "00",
          "00",
          "00",
          "11",
          "00",
          "11",
          "00",
          "00",
          "11",
          "11",
          "00",
          "11",
          "00",
          "00",
          "00",
          "00",
          "11",
          "00",
          "00",
          "11",
          "00",
          "00",
          "11",
          "00",
          "11",
          "00",
          "11",
          "00",
          "11",
          "11",
          "00",
          "11",
          "11",
          "11",
          "11",
          "00",
          "00",
          "00",
          "00",
          "00",
          "11",
          "11",
          "00",
          "11",
          "00",
          "11",
          "11",
          "11",
          "11",
          "11",
          "11",
          "11",
          "00",
          "11",
          "11",
          "00",
          "11",
          "00",
          "11",
          "11",
          "00",
          "11",
          "00",
          "11",
          "11",
          "00",
          "00",
          "11",
          "11",
          "00",
          "00",
          "11",
          "00",
          "11",
          "00",
          "11",
          "11",
          "11",
          "00",
          "00",
          "11",
          "11",
          "11",
          "11",
          "00",
          "00",
          "00",
          "00",
          "11",
          "11",
          "11",
          "11",
          "00",
          "11",
          "00",
          "00",
          "00",
          "11",
          "11",
          "11",
          "11",
          "00",
          "00",
          "11",
          "11",
          "11",
          "11",
          "11",
          "00",
          "00",
          "11",
          "00",
          "11",
          "11",
          "00",
          "00",
          "00",
          "00",
          "11",
          "00",
          "11",
          "00",
          "11",
          "00",
          "00",
          "00",
          "00",
          "11",
          "11",
          "00",
          "00",
          "00",
          "00",
          "00",
          "11",
          "00",
          "11",
          "11",
          "11",
          "11",
          "00",
          "11",
          "00",
          "00",
          "00",
          "00",
          "00",
          "11",
          "11",
          "11",
          "11",
          "11",
          "00",
          "00",
          "11",
          "00",
          "11",
          "11",
          "11",
          "11",
          "00",
          "11",
          "00",
          "00",
          "00",
          "00",
          "00",
          "00",
          "11",
          "00",
          "11",
          "00",
          "11",
          "11",
          "11",
          "11"
         ],
         "xaxis": "x",
         "yaxis": "y"
        }
       ],
       "layout": {
        "barmode": "relative",
        "legend": {
         "tracegroupgap": 0
        },
        "template": {
         "data": {
          "bar": [
           {
            "error_x": {
             "color": "#2a3f5f"
            },
            "error_y": {
             "color": "#2a3f5f"
            },
            "marker": {
             "line": {
              "color": "#E5ECF6",
              "width": 0.5
             },
             "pattern": {
              "fillmode": "overlay",
              "size": 10,
              "solidity": 0.2
             }
            },
            "type": "bar"
           }
          ],
          "barpolar": [
           {
            "marker": {
             "line": {
              "color": "#E5ECF6",
              "width": 0.5
             },
             "pattern": {
              "fillmode": "overlay",
              "size": 10,
              "solidity": 0.2
             }
            },
            "type": "barpolar"
           }
          ],
          "carpet": [
           {
            "aaxis": {
             "endlinecolor": "#2a3f5f",
             "gridcolor": "white",
             "linecolor": "white",
             "minorgridcolor": "white",
             "startlinecolor": "#2a3f5f"
            },
            "baxis": {
             "endlinecolor": "#2a3f5f",
             "gridcolor": "white",
             "linecolor": "white",
             "minorgridcolor": "white",
             "startlinecolor": "#2a3f5f"
            },
            "type": "carpet"
           }
          ],
          "choropleth": [
           {
            "colorbar": {
             "outlinewidth": 0,
             "ticks": ""
            },
            "type": "choropleth"
           }
          ],
          "contour": [
           {
            "colorbar": {
             "outlinewidth": 0,
             "ticks": ""
            },
            "colorscale": [
             [
              0,
              "#0d0887"
             ],
             [
              0.1111111111111111,
              "#46039f"
             ],
             [
              0.2222222222222222,
              "#7201a8"
             ],
             [
              0.3333333333333333,
              "#9c179e"
             ],
             [
              0.4444444444444444,
              "#bd3786"
             ],
             [
              0.5555555555555556,
              "#d8576b"
             ],
             [
              0.6666666666666666,
              "#ed7953"
             ],
             [
              0.7777777777777778,
              "#fb9f3a"
             ],
             [
              0.8888888888888888,
              "#fdca26"
             ],
             [
              1,
              "#f0f921"
             ]
            ],
            "type": "contour"
           }
          ],
          "contourcarpet": [
           {
            "colorbar": {
             "outlinewidth": 0,
             "ticks": ""
            },
            "type": "contourcarpet"
           }
          ],
          "heatmap": [
           {
            "colorbar": {
             "outlinewidth": 0,
             "ticks": ""
            },
            "colorscale": [
             [
              0,
              "#0d0887"
             ],
             [
              0.1111111111111111,
              "#46039f"
             ],
             [
              0.2222222222222222,
              "#7201a8"
             ],
             [
              0.3333333333333333,
              "#9c179e"
             ],
             [
              0.4444444444444444,
              "#bd3786"
             ],
             [
              0.5555555555555556,
              "#d8576b"
             ],
             [
              0.6666666666666666,
              "#ed7953"
             ],
             [
              0.7777777777777778,
              "#fb9f3a"
             ],
             [
              0.8888888888888888,
              "#fdca26"
             ],
             [
              1,
              "#f0f921"
             ]
            ],
            "type": "heatmap"
           }
          ],
          "heatmapgl": [
           {
            "colorbar": {
             "outlinewidth": 0,
             "ticks": ""
            },
            "colorscale": [
             [
              0,
              "#0d0887"
             ],
             [
              0.1111111111111111,
              "#46039f"
             ],
             [
              0.2222222222222222,
              "#7201a8"
             ],
             [
              0.3333333333333333,
              "#9c179e"
             ],
             [
              0.4444444444444444,
              "#bd3786"
             ],
             [
              0.5555555555555556,
              "#d8576b"
             ],
             [
              0.6666666666666666,
              "#ed7953"
             ],
             [
              0.7777777777777778,
              "#fb9f3a"
             ],
             [
              0.8888888888888888,
              "#fdca26"
             ],
             [
              1,
              "#f0f921"
             ]
            ],
            "type": "heatmapgl"
           }
          ],
          "histogram": [
           {
            "marker": {
             "pattern": {
              "fillmode": "overlay",
              "size": 10,
              "solidity": 0.2
             }
            },
            "type": "histogram"
           }
          ],
          "histogram2d": [
           {
            "colorbar": {
             "outlinewidth": 0,
             "ticks": ""
            },
            "colorscale": [
             [
              0,
              "#0d0887"
             ],
             [
              0.1111111111111111,
              "#46039f"
             ],
             [
              0.2222222222222222,
              "#7201a8"
             ],
             [
              0.3333333333333333,
              "#9c179e"
             ],
             [
              0.4444444444444444,
              "#bd3786"
             ],
             [
              0.5555555555555556,
              "#d8576b"
             ],
             [
              0.6666666666666666,
              "#ed7953"
             ],
             [
              0.7777777777777778,
              "#fb9f3a"
             ],
             [
              0.8888888888888888,
              "#fdca26"
             ],
             [
              1,
              "#f0f921"
             ]
            ],
            "type": "histogram2d"
           }
          ],
          "histogram2dcontour": [
           {
            "colorbar": {
             "outlinewidth": 0,
             "ticks": ""
            },
            "colorscale": [
             [
              0,
              "#0d0887"
             ],
             [
              0.1111111111111111,
              "#46039f"
             ],
             [
              0.2222222222222222,
              "#7201a8"
             ],
             [
              0.3333333333333333,
              "#9c179e"
             ],
             [
              0.4444444444444444,
              "#bd3786"
             ],
             [
              0.5555555555555556,
              "#d8576b"
             ],
             [
              0.6666666666666666,
              "#ed7953"
             ],
             [
              0.7777777777777778,
              "#fb9f3a"
             ],
             [
              0.8888888888888888,
              "#fdca26"
             ],
             [
              1,
              "#f0f921"
             ]
            ],
            "type": "histogram2dcontour"
           }
          ],
          "mesh3d": [
           {
            "colorbar": {
             "outlinewidth": 0,
             "ticks": ""
            },
            "type": "mesh3d"
           }
          ],
          "parcoords": [
           {
            "line": {
             "colorbar": {
              "outlinewidth": 0,
              "ticks": ""
             }
            },
            "type": "parcoords"
           }
          ],
          "pie": [
           {
            "automargin": true,
            "type": "pie"
           }
          ],
          "scatter": [
           {
            "fillpattern": {
             "fillmode": "overlay",
             "size": 10,
             "solidity": 0.2
            },
            "type": "scatter"
           }
          ],
          "scatter3d": [
           {
            "line": {
             "colorbar": {
              "outlinewidth": 0,
              "ticks": ""
             }
            },
            "marker": {
             "colorbar": {
              "outlinewidth": 0,
              "ticks": ""
             }
            },
            "type": "scatter3d"
           }
          ],
          "scattercarpet": [
           {
            "marker": {
             "colorbar": {
              "outlinewidth": 0,
              "ticks": ""
             }
            },
            "type": "scattercarpet"
           }
          ],
          "scattergeo": [
           {
            "marker": {
             "colorbar": {
              "outlinewidth": 0,
              "ticks": ""
             }
            },
            "type": "scattergeo"
           }
          ],
          "scattergl": [
           {
            "marker": {
             "colorbar": {
              "outlinewidth": 0,
              "ticks": ""
             }
            },
            "type": "scattergl"
           }
          ],
          "scattermapbox": [
           {
            "marker": {
             "colorbar": {
              "outlinewidth": 0,
              "ticks": ""
             }
            },
            "type": "scattermapbox"
           }
          ],
          "scatterpolar": [
           {
            "marker": {
             "colorbar": {
              "outlinewidth": 0,
              "ticks": ""
             }
            },
            "type": "scatterpolar"
           }
          ],
          "scatterpolargl": [
           {
            "marker": {
             "colorbar": {
              "outlinewidth": 0,
              "ticks": ""
             }
            },
            "type": "scatterpolargl"
           }
          ],
          "scatterternary": [
           {
            "marker": {
             "colorbar": {
              "outlinewidth": 0,
              "ticks": ""
             }
            },
            "type": "scatterternary"
           }
          ],
          "surface": [
           {
            "colorbar": {
             "outlinewidth": 0,
             "ticks": ""
            },
            "colorscale": [
             [
              0,
              "#0d0887"
             ],
             [
              0.1111111111111111,
              "#46039f"
             ],
             [
              0.2222222222222222,
              "#7201a8"
             ],
             [
              0.3333333333333333,
              "#9c179e"
             ],
             [
              0.4444444444444444,
              "#bd3786"
             ],
             [
              0.5555555555555556,
              "#d8576b"
             ],
             [
              0.6666666666666666,
              "#ed7953"
             ],
             [
              0.7777777777777778,
              "#fb9f3a"
             ],
             [
              0.8888888888888888,
              "#fdca26"
             ],
             [
              1,
              "#f0f921"
             ]
            ],
            "type": "surface"
           }
          ],
          "table": [
           {
            "cells": {
             "fill": {
              "color": "#EBF0F8"
             },
             "line": {
              "color": "white"
             }
            },
            "header": {
             "fill": {
              "color": "#C8D4E3"
             },
             "line": {
              "color": "white"
             }
            },
            "type": "table"
           }
          ]
         },
         "layout": {
          "annotationdefaults": {
           "arrowcolor": "#2a3f5f",
           "arrowhead": 0,
           "arrowwidth": 1
          },
          "autotypenumbers": "strict",
          "coloraxis": {
           "colorbar": {
            "outlinewidth": 0,
            "ticks": ""
           }
          },
          "colorscale": {
           "diverging": [
            [
             0,
             "#8e0152"
            ],
            [
             0.1,
             "#c51b7d"
            ],
            [
             0.2,
             "#de77ae"
            ],
            [
             0.3,
             "#f1b6da"
            ],
            [
             0.4,
             "#fde0ef"
            ],
            [
             0.5,
             "#f7f7f7"
            ],
            [
             0.6,
             "#e6f5d0"
            ],
            [
             0.7,
             "#b8e186"
            ],
            [
             0.8,
             "#7fbc41"
            ],
            [
             0.9,
             "#4d9221"
            ],
            [
             1,
             "#276419"
            ]
           ],
           "sequential": [
            [
             0,
             "#0d0887"
            ],
            [
             0.1111111111111111,
             "#46039f"
            ],
            [
             0.2222222222222222,
             "#7201a8"
            ],
            [
             0.3333333333333333,
             "#9c179e"
            ],
            [
             0.4444444444444444,
             "#bd3786"
            ],
            [
             0.5555555555555556,
             "#d8576b"
            ],
            [
             0.6666666666666666,
             "#ed7953"
            ],
            [
             0.7777777777777778,
             "#fb9f3a"
            ],
            [
             0.8888888888888888,
             "#fdca26"
            ],
            [
             1,
             "#f0f921"
            ]
           ],
           "sequentialminus": [
            [
             0,
             "#0d0887"
            ],
            [
             0.1111111111111111,
             "#46039f"
            ],
            [
             0.2222222222222222,
             "#7201a8"
            ],
            [
             0.3333333333333333,
             "#9c179e"
            ],
            [
             0.4444444444444444,
             "#bd3786"
            ],
            [
             0.5555555555555556,
             "#d8576b"
            ],
            [
             0.6666666666666666,
             "#ed7953"
            ],
            [
             0.7777777777777778,
             "#fb9f3a"
            ],
            [
             0.8888888888888888,
             "#fdca26"
            ],
            [
             1,
             "#f0f921"
            ]
           ]
          },
          "colorway": [
           "#636efa",
           "#EF553B",
           "#00cc96",
           "#ab63fa",
           "#FFA15A",
           "#19d3f3",
           "#FF6692",
           "#B6E880",
           "#FF97FF",
           "#FECB52"
          ],
          "font": {
           "color": "#2a3f5f"
          },
          "geo": {
           "bgcolor": "white",
           "lakecolor": "white",
           "landcolor": "#E5ECF6",
           "showlakes": true,
           "showland": true,
           "subunitcolor": "white"
          },
          "hoverlabel": {
           "align": "left"
          },
          "hovermode": "closest",
          "mapbox": {
           "style": "light"
          },
          "paper_bgcolor": "white",
          "plot_bgcolor": "#E5ECF6",
          "polar": {
           "angularaxis": {
            "gridcolor": "white",
            "linecolor": "white",
            "ticks": ""
           },
           "bgcolor": "#E5ECF6",
           "radialaxis": {
            "gridcolor": "white",
            "linecolor": "white",
            "ticks": ""
           }
          },
          "scene": {
           "xaxis": {
            "backgroundcolor": "#E5ECF6",
            "gridcolor": "white",
            "gridwidth": 2,
            "linecolor": "white",
            "showbackground": true,
            "ticks": "",
            "zerolinecolor": "white"
           },
           "yaxis": {
            "backgroundcolor": "#E5ECF6",
            "gridcolor": "white",
            "gridwidth": 2,
            "linecolor": "white",
            "showbackground": true,
            "ticks": "",
            "zerolinecolor": "white"
           },
           "zaxis": {
            "backgroundcolor": "#E5ECF6",
            "gridcolor": "white",
            "gridwidth": 2,
            "linecolor": "white",
            "showbackground": true,
            "ticks": "",
            "zerolinecolor": "white"
           }
          },
          "shapedefaults": {
           "line": {
            "color": "#2a3f5f"
           }
          },
          "ternary": {
           "aaxis": {
            "gridcolor": "white",
            "linecolor": "white",
            "ticks": ""
           },
           "baxis": {
            "gridcolor": "white",
            "linecolor": "white",
            "ticks": ""
           },
           "bgcolor": "#E5ECF6",
           "caxis": {
            "gridcolor": "white",
            "linecolor": "white",
            "ticks": ""
           }
          },
          "title": {
           "x": 0.05
          },
          "xaxis": {
           "automargin": true,
           "gridcolor": "white",
           "linecolor": "white",
           "ticks": "",
           "title": {
            "standoff": 15
           },
           "zerolinecolor": "white",
           "zerolinewidth": 2
          },
          "yaxis": {
           "automargin": true,
           "gridcolor": "white",
           "linecolor": "white",
           "ticks": "",
           "title": {
            "standoff": 15
           },
           "zerolinecolor": "white",
           "zerolinewidth": 2
          }
         }
        },
        "title": {
         "text": "Measurement Results of Bell State"
        },
        "xaxis": {
         "anchor": "y",
         "domain": [
          0,
          1
         ],
         "title": {
          "text": "Measurement Outcome"
         }
        },
        "yaxis": {
         "anchor": "x",
         "domain": [
          0,
          1
         ],
         "title": {
          "text": "count"
         }
        }
       }
      }
     },
     "metadata": {},
     "output_type": "display_data"
    }
   ],
   "source": [
    "# Plot the results using Plotly\n",
    "fig = px.histogram(measurement_strings, x=measurement_strings, title=\"Measurement Results of Bell State\", labels={\"x\": \"Measurement Outcome\", \"y\": \"Count\"}, text_auto=True)\n",
    "fig.show()"
   ]
  },
  {
   "cell_type": "markdown",
   "metadata": {},
   "source": [
    "For convenience we can also directly get the Bell State as a StateVector."
   ]
  },
  {
   "cell_type": "code",
   "execution_count": 10,
   "metadata": {},
   "outputs": [
    {
     "data": {
      "text/plain": [
       "PhiPlusState([0.70710678+0.j, 0.        +0.j, 0.        +0.j,\n",
       "              0.70710678+0.j])"
      ]
     },
     "execution_count": 10,
     "metadata": {},
     "output_type": "execute_result"
    }
   ],
   "source": [
    "phi_plus = PhiPlusState()\n",
    "phi_plus"
   ]
  },
  {
   "cell_type": "code",
   "execution_count": 11,
   "metadata": {},
   "outputs": [
    {
     "data": {
      "application/vnd.plotly.v1+json": {
       "config": {
        "plotlyServerURL": "https://plot.ly"
       },
       "data": [
        {
         "alignmentgroup": "True",
         "bingroup": "x",
         "hovertemplate": "variable=0<br>value=%{x}<br>count=%{y}<extra></extra>",
         "legendgroup": "0",
         "marker": {
          "color": "#636efa",
          "pattern": {
           "shape": ""
          }
         },
         "name": "0",
         "offsetgroup": "0",
         "orientation": "v",
         "showlegend": true,
         "type": "histogram",
         "x": [
          "11",
          "11",
          "00",
          "00",
          "11",
          "00",
          "11",
          "11",
          "00",
          "11",
          "00",
          "00",
          "00",
          "11",
          "00",
          "11",
          "00",
          "00",
          "11",
          "11",
          "00",
          "11",
          "00",
          "00",
          "00",
          "00",
          "00",
          "11",
          "11",
          "11",
          "11",
          "11",
          "00",
          "00",
          "11",
          "11",
          "11",
          "00",
          "11",
          "00",
          "11",
          "00",
          "00",
          "11",
          "00",
          "00",
          "11",
          "00",
          "00",
          "11",
          "11",
          "11",
          "00",
          "11",
          "11",
          "00",
          "11",
          "11",
          "11",
          "00",
          "11",
          "00",
          "00",
          "00",
          "00",
          "00",
          "00",
          "11",
          "11",
          "00",
          "11",
          "00",
          "11",
          "11",
          "11",
          "00",
          "00",
          "11",
          "11",
          "00",
          "00",
          "11",
          "00",
          "00",
          "00",
          "00",
          "00",
          "00",
          "11",
          "00",
          "11",
          "00",
          "11",
          "00",
          "11",
          "11",
          "00",
          "00",
          "11",
          "00",
          "11",
          "00",
          "00",
          "00",
          "00",
          "00",
          "00",
          "11",
          "00",
          "11",
          "00",
          "11",
          "00",
          "00",
          "00",
          "00",
          "00",
          "11",
          "11",
          "11",
          "11",
          "11",
          "00",
          "11",
          "11",
          "11",
          "00",
          "11",
          "11",
          "11",
          "11",
          "11",
          "00",
          "11",
          "00",
          "11",
          "11",
          "11",
          "00",
          "00",
          "00",
          "11",
          "00",
          "00",
          "00",
          "00",
          "00",
          "00",
          "11",
          "00",
          "11",
          "00",
          "00",
          "11",
          "00",
          "11",
          "11",
          "11",
          "11",
          "00",
          "11",
          "11",
          "00",
          "00",
          "00",
          "11",
          "00",
          "00",
          "00",
          "11",
          "11",
          "11",
          "00",
          "00",
          "00",
          "00",
          "11",
          "11",
          "11",
          "00",
          "00",
          "11",
          "11",
          "11",
          "11",
          "11",
          "00",
          "00",
          "00",
          "00",
          "00",
          "00",
          "11",
          "11",
          "00",
          "00",
          "00",
          "00",
          "00",
          "11",
          "11",
          "11",
          "00",
          "00",
          "00",
          "11",
          "11",
          "00",
          "11",
          "00",
          "11",
          "00",
          "00",
          "00",
          "00",
          "00",
          "11",
          "00",
          "00",
          "00",
          "00",
          "00",
          "00",
          "11",
          "11",
          "11",
          "00",
          "11",
          "11",
          "00",
          "11",
          "00",
          "11",
          "00",
          "11",
          "00",
          "11",
          "00",
          "00",
          "00",
          "00",
          "00",
          "11",
          "11",
          "00",
          "11",
          "11",
          "00",
          "11",
          "11",
          "00",
          "11",
          "11",
          "00",
          "11",
          "11",
          "11",
          "11",
          "00",
          "11",
          "11",
          "11",
          "00",
          "00",
          "11",
          "11",
          "00",
          "11",
          "00",
          "00",
          "00",
          "00",
          "00",
          "11",
          "00",
          "11",
          "00",
          "00",
          "00",
          "11",
          "11",
          "00",
          "00",
          "00",
          "00",
          "00",
          "11",
          "11",
          "11",
          "11",
          "11",
          "11",
          "11",
          "00",
          "00",
          "11",
          "11",
          "11",
          "11",
          "00",
          "11",
          "11",
          "00",
          "00",
          "00",
          "00",
          "00",
          "11",
          "00",
          "00",
          "00",
          "11",
          "00",
          "11",
          "11",
          "00",
          "11",
          "11",
          "11",
          "11",
          "11",
          "00",
          "00",
          "11",
          "00",
          "00",
          "00",
          "11",
          "00",
          "11",
          "00",
          "00",
          "00",
          "00",
          "11",
          "00",
          "11",
          "00",
          "11",
          "11",
          "00",
          "11",
          "00",
          "00",
          "00",
          "00",
          "00",
          "00",
          "00",
          "00",
          "11",
          "00",
          "11",
          "11",
          "00",
          "11",
          "00",
          "11",
          "11",
          "11",
          "00",
          "00",
          "11",
          "00",
          "11",
          "11",
          "11",
          "00",
          "00",
          "00",
          "00",
          "11",
          "11",
          "11",
          "00",
          "00",
          "00",
          "00",
          "00",
          "00",
          "00",
          "11",
          "11",
          "11",
          "11",
          "00",
          "00",
          "11",
          "00",
          "00",
          "00",
          "00",
          "00",
          "00",
          "11",
          "00",
          "00",
          "00",
          "11",
          "00",
          "00",
          "00",
          "00",
          "00",
          "11",
          "11",
          "11",
          "11",
          "00",
          "11",
          "11",
          "11",
          "00",
          "11",
          "11",
          "00",
          "00",
          "00",
          "11",
          "00",
          "00",
          "11",
          "11",
          "00",
          "00",
          "11",
          "00",
          "11",
          "00",
          "00",
          "00",
          "00",
          "11",
          "11",
          "11",
          "00",
          "11",
          "00",
          "11",
          "00",
          "11",
          "11",
          "11",
          "00",
          "11",
          "11",
          "00",
          "11",
          "11",
          "11",
          "11",
          "00",
          "00",
          "11",
          "00",
          "11",
          "11",
          "00",
          "00",
          "11",
          "00",
          "00",
          "00",
          "00",
          "00",
          "00",
          "11",
          "11",
          "11",
          "11",
          "00",
          "11",
          "00",
          "00",
          "11",
          "11",
          "00",
          "00",
          "00",
          "00",
          "11",
          "00",
          "11",
          "11",
          "00",
          "00",
          "00",
          "00",
          "11",
          "11",
          "11",
          "11",
          "11",
          "00",
          "11",
          "00",
          "00",
          "11",
          "11",
          "00",
          "00",
          "11",
          "00",
          "11",
          "00",
          "11",
          "11",
          "11",
          "11",
          "00",
          "00",
          "00",
          "00",
          "11",
          "00",
          "00",
          "00",
          "00",
          "00",
          "00",
          "00",
          "00",
          "00",
          "00",
          "00",
          "11",
          "11",
          "00",
          "00",
          "00",
          "00",
          "00",
          "00",
          "00",
          "11",
          "11",
          "11",
          "00",
          "00",
          "11",
          "00",
          "00",
          "00",
          "00",
          "11",
          "11",
          "00",
          "00",
          "11",
          "00",
          "11",
          "11",
          "00",
          "11",
          "11",
          "00",
          "11",
          "00",
          "11",
          "00",
          "00",
          "00",
          "11",
          "00",
          "00",
          "00",
          "00",
          "11",
          "00",
          "11",
          "11",
          "11",
          "11",
          "00",
          "11",
          "11",
          "00",
          "11",
          "00",
          "00",
          "11",
          "00",
          "00",
          "00",
          "11",
          "00",
          "00",
          "11",
          "11",
          "00",
          "11",
          "00",
          "00",
          "00",
          "11",
          "11",
          "00",
          "00",
          "00",
          "00",
          "00",
          "11",
          "11",
          "11",
          "00",
          "11",
          "11",
          "11",
          "00",
          "00",
          "11",
          "11",
          "00",
          "00",
          "00",
          "00",
          "11",
          "00",
          "11",
          "11",
          "11",
          "00",
          "00",
          "00",
          "00",
          "11",
          "11",
          "11",
          "00",
          "11",
          "11",
          "00",
          "11",
          "11",
          "11",
          "00",
          "00",
          "11",
          "11",
          "00",
          "00",
          "11",
          "00",
          "00",
          "00",
          "00",
          "00",
          "00",
          "11",
          "11",
          "00",
          "11",
          "11",
          "00",
          "11",
          "00",
          "00",
          "11",
          "11",
          "00",
          "00",
          "00",
          "00",
          "00",
          "11",
          "00",
          "00",
          "11",
          "00",
          "00",
          "00",
          "11",
          "00",
          "00",
          "11",
          "11",
          "00",
          "00",
          "00",
          "11",
          "11",
          "11",
          "00",
          "00",
          "11",
          "00",
          "00",
          "11",
          "11",
          "11",
          "11",
          "11",
          "00",
          "00",
          "11",
          "11",
          "11",
          "11",
          "00",
          "00",
          "11",
          "11",
          "11",
          "00",
          "00",
          "00",
          "11",
          "11",
          "00",
          "11",
          "00",
          "11",
          "11",
          "00",
          "11",
          "00",
          "11",
          "11",
          "00",
          "00",
          "11",
          "11",
          "11",
          "11",
          "00",
          "11",
          "00",
          "00",
          "11",
          "00",
          "00",
          "00",
          "00",
          "11",
          "00",
          "00",
          "00",
          "11",
          "00",
          "11",
          "11",
          "11",
          "00",
          "11",
          "11",
          "11",
          "00",
          "00",
          "11",
          "11",
          "11",
          "00",
          "00",
          "11",
          "00",
          "00",
          "11",
          "00",
          "11",
          "11",
          "11",
          "11",
          "11",
          "00",
          "11",
          "00",
          "00",
          "00",
          "11",
          "00",
          "00",
          "11",
          "11",
          "11",
          "00",
          "00",
          "00",
          "11",
          "11",
          "11",
          "00",
          "00",
          "11",
          "00",
          "11",
          "00",
          "00",
          "00",
          "11",
          "00",
          "00",
          "11",
          "00",
          "00",
          "11",
          "11",
          "11",
          "00",
          "00",
          "11",
          "00",
          "00",
          "00",
          "11",
          "00",
          "00",
          "00",
          "00",
          "11",
          "00",
          "00",
          "00",
          "00",
          "11",
          "11",
          "00",
          "00",
          "00",
          "11",
          "00",
          "00",
          "00",
          "00",
          "11",
          "00",
          "11",
          "00",
          "00",
          "00",
          "00",
          "11",
          "00",
          "00",
          "11",
          "00",
          "11",
          "00",
          "11",
          "11",
          "00",
          "11",
          "11",
          "00",
          "11",
          "00",
          "00",
          "00",
          "00",
          "11",
          "00",
          "11",
          "11",
          "11",
          "11",
          "00",
          "00",
          "11",
          "00",
          "11",
          "11",
          "11",
          "11",
          "11",
          "11",
          "11",
          "00",
          "00",
          "00",
          "11",
          "11",
          "00",
          "00",
          "00",
          "00",
          "11",
          "00",
          "11",
          "11",
          "00",
          "00",
          "11",
          "11",
          "11",
          "11",
          "11",
          "00",
          "11",
          "11",
          "11",
          "00",
          "11",
          "11",
          "11",
          "11",
          "11",
          "11",
          "00",
          "00",
          "11",
          "00",
          "00",
          "11",
          "11",
          "00",
          "11",
          "00",
          "11",
          "11",
          "00",
          "11",
          "11",
          "00",
          "00",
          "00",
          "11",
          "11",
          "00",
          "00",
          "11",
          "00",
          "11",
          "11",
          "00",
          "11",
          "00",
          "00",
          "00",
          "00",
          "00",
          "00",
          "11",
          "00",
          "11",
          "11",
          "11",
          "00",
          "00",
          "11",
          "11",
          "11",
          "11",
          "00",
          "11",
          "11",
          "11",
          "11",
          "11",
          "00",
          "00",
          "11",
          "11",
          "11",
          "11",
          "00",
          "00",
          "11",
          "11",
          "00",
          "00",
          "00",
          "11",
          "11",
          "00",
          "00",
          "11",
          "11",
          "11",
          "11",
          "11",
          "11",
          "00",
          "11",
          "11",
          "11",
          "00",
          "00",
          "00",
          "00",
          "00",
          "11",
          "11",
          "00",
          "11",
          "00",
          "11",
          "00",
          "00",
          "11",
          "00",
          "00",
          "11",
          "11",
          "11",
          "11",
          "11",
          "00",
          "00",
          "00",
          "00",
          "00"
         ],
         "xaxis": "x",
         "yaxis": "y"
        }
       ],
       "layout": {
        "barmode": "relative",
        "legend": {
         "title": {
          "text": "variable"
         },
         "tracegroupgap": 0
        },
        "margin": {
         "t": 60
        },
        "template": {
         "data": {
          "bar": [
           {
            "error_x": {
             "color": "#2a3f5f"
            },
            "error_y": {
             "color": "#2a3f5f"
            },
            "marker": {
             "line": {
              "color": "#E5ECF6",
              "width": 0.5
             },
             "pattern": {
              "fillmode": "overlay",
              "size": 10,
              "solidity": 0.2
             }
            },
            "type": "bar"
           }
          ],
          "barpolar": [
           {
            "marker": {
             "line": {
              "color": "#E5ECF6",
              "width": 0.5
             },
             "pattern": {
              "fillmode": "overlay",
              "size": 10,
              "solidity": 0.2
             }
            },
            "type": "barpolar"
           }
          ],
          "carpet": [
           {
            "aaxis": {
             "endlinecolor": "#2a3f5f",
             "gridcolor": "white",
             "linecolor": "white",
             "minorgridcolor": "white",
             "startlinecolor": "#2a3f5f"
            },
            "baxis": {
             "endlinecolor": "#2a3f5f",
             "gridcolor": "white",
             "linecolor": "white",
             "minorgridcolor": "white",
             "startlinecolor": "#2a3f5f"
            },
            "type": "carpet"
           }
          ],
          "choropleth": [
           {
            "colorbar": {
             "outlinewidth": 0,
             "ticks": ""
            },
            "type": "choropleth"
           }
          ],
          "contour": [
           {
            "colorbar": {
             "outlinewidth": 0,
             "ticks": ""
            },
            "colorscale": [
             [
              0,
              "#0d0887"
             ],
             [
              0.1111111111111111,
              "#46039f"
             ],
             [
              0.2222222222222222,
              "#7201a8"
             ],
             [
              0.3333333333333333,
              "#9c179e"
             ],
             [
              0.4444444444444444,
              "#bd3786"
             ],
             [
              0.5555555555555556,
              "#d8576b"
             ],
             [
              0.6666666666666666,
              "#ed7953"
             ],
             [
              0.7777777777777778,
              "#fb9f3a"
             ],
             [
              0.8888888888888888,
              "#fdca26"
             ],
             [
              1,
              "#f0f921"
             ]
            ],
            "type": "contour"
           }
          ],
          "contourcarpet": [
           {
            "colorbar": {
             "outlinewidth": 0,
             "ticks": ""
            },
            "type": "contourcarpet"
           }
          ],
          "heatmap": [
           {
            "colorbar": {
             "outlinewidth": 0,
             "ticks": ""
            },
            "colorscale": [
             [
              0,
              "#0d0887"
             ],
             [
              0.1111111111111111,
              "#46039f"
             ],
             [
              0.2222222222222222,
              "#7201a8"
             ],
             [
              0.3333333333333333,
              "#9c179e"
             ],
             [
              0.4444444444444444,
              "#bd3786"
             ],
             [
              0.5555555555555556,
              "#d8576b"
             ],
             [
              0.6666666666666666,
              "#ed7953"
             ],
             [
              0.7777777777777778,
              "#fb9f3a"
             ],
             [
              0.8888888888888888,
              "#fdca26"
             ],
             [
              1,
              "#f0f921"
             ]
            ],
            "type": "heatmap"
           }
          ],
          "heatmapgl": [
           {
            "colorbar": {
             "outlinewidth": 0,
             "ticks": ""
            },
            "colorscale": [
             [
              0,
              "#0d0887"
             ],
             [
              0.1111111111111111,
              "#46039f"
             ],
             [
              0.2222222222222222,
              "#7201a8"
             ],
             [
              0.3333333333333333,
              "#9c179e"
             ],
             [
              0.4444444444444444,
              "#bd3786"
             ],
             [
              0.5555555555555556,
              "#d8576b"
             ],
             [
              0.6666666666666666,
              "#ed7953"
             ],
             [
              0.7777777777777778,
              "#fb9f3a"
             ],
             [
              0.8888888888888888,
              "#fdca26"
             ],
             [
              1,
              "#f0f921"
             ]
            ],
            "type": "heatmapgl"
           }
          ],
          "histogram": [
           {
            "marker": {
             "pattern": {
              "fillmode": "overlay",
              "size": 10,
              "solidity": 0.2
             }
            },
            "type": "histogram"
           }
          ],
          "histogram2d": [
           {
            "colorbar": {
             "outlinewidth": 0,
             "ticks": ""
            },
            "colorscale": [
             [
              0,
              "#0d0887"
             ],
             [
              0.1111111111111111,
              "#46039f"
             ],
             [
              0.2222222222222222,
              "#7201a8"
             ],
             [
              0.3333333333333333,
              "#9c179e"
             ],
             [
              0.4444444444444444,
              "#bd3786"
             ],
             [
              0.5555555555555556,
              "#d8576b"
             ],
             [
              0.6666666666666666,
              "#ed7953"
             ],
             [
              0.7777777777777778,
              "#fb9f3a"
             ],
             [
              0.8888888888888888,
              "#fdca26"
             ],
             [
              1,
              "#f0f921"
             ]
            ],
            "type": "histogram2d"
           }
          ],
          "histogram2dcontour": [
           {
            "colorbar": {
             "outlinewidth": 0,
             "ticks": ""
            },
            "colorscale": [
             [
              0,
              "#0d0887"
             ],
             [
              0.1111111111111111,
              "#46039f"
             ],
             [
              0.2222222222222222,
              "#7201a8"
             ],
             [
              0.3333333333333333,
              "#9c179e"
             ],
             [
              0.4444444444444444,
              "#bd3786"
             ],
             [
              0.5555555555555556,
              "#d8576b"
             ],
             [
              0.6666666666666666,
              "#ed7953"
             ],
             [
              0.7777777777777778,
              "#fb9f3a"
             ],
             [
              0.8888888888888888,
              "#fdca26"
             ],
             [
              1,
              "#f0f921"
             ]
            ],
            "type": "histogram2dcontour"
           }
          ],
          "mesh3d": [
           {
            "colorbar": {
             "outlinewidth": 0,
             "ticks": ""
            },
            "type": "mesh3d"
           }
          ],
          "parcoords": [
           {
            "line": {
             "colorbar": {
              "outlinewidth": 0,
              "ticks": ""
             }
            },
            "type": "parcoords"
           }
          ],
          "pie": [
           {
            "automargin": true,
            "type": "pie"
           }
          ],
          "scatter": [
           {
            "fillpattern": {
             "fillmode": "overlay",
             "size": 10,
             "solidity": 0.2
            },
            "type": "scatter"
           }
          ],
          "scatter3d": [
           {
            "line": {
             "colorbar": {
              "outlinewidth": 0,
              "ticks": ""
             }
            },
            "marker": {
             "colorbar": {
              "outlinewidth": 0,
              "ticks": ""
             }
            },
            "type": "scatter3d"
           }
          ],
          "scattercarpet": [
           {
            "marker": {
             "colorbar": {
              "outlinewidth": 0,
              "ticks": ""
             }
            },
            "type": "scattercarpet"
           }
          ],
          "scattergeo": [
           {
            "marker": {
             "colorbar": {
              "outlinewidth": 0,
              "ticks": ""
             }
            },
            "type": "scattergeo"
           }
          ],
          "scattergl": [
           {
            "marker": {
             "colorbar": {
              "outlinewidth": 0,
              "ticks": ""
             }
            },
            "type": "scattergl"
           }
          ],
          "scattermapbox": [
           {
            "marker": {
             "colorbar": {
              "outlinewidth": 0,
              "ticks": ""
             }
            },
            "type": "scattermapbox"
           }
          ],
          "scatterpolar": [
           {
            "marker": {
             "colorbar": {
              "outlinewidth": 0,
              "ticks": ""
             }
            },
            "type": "scatterpolar"
           }
          ],
          "scatterpolargl": [
           {
            "marker": {
             "colorbar": {
              "outlinewidth": 0,
              "ticks": ""
             }
            },
            "type": "scatterpolargl"
           }
          ],
          "scatterternary": [
           {
            "marker": {
             "colorbar": {
              "outlinewidth": 0,
              "ticks": ""
             }
            },
            "type": "scatterternary"
           }
          ],
          "surface": [
           {
            "colorbar": {
             "outlinewidth": 0,
             "ticks": ""
            },
            "colorscale": [
             [
              0,
              "#0d0887"
             ],
             [
              0.1111111111111111,
              "#46039f"
             ],
             [
              0.2222222222222222,
              "#7201a8"
             ],
             [
              0.3333333333333333,
              "#9c179e"
             ],
             [
              0.4444444444444444,
              "#bd3786"
             ],
             [
              0.5555555555555556,
              "#d8576b"
             ],
             [
              0.6666666666666666,
              "#ed7953"
             ],
             [
              0.7777777777777778,
              "#fb9f3a"
             ],
             [
              0.8888888888888888,
              "#fdca26"
             ],
             [
              1,
              "#f0f921"
             ]
            ],
            "type": "surface"
           }
          ],
          "table": [
           {
            "cells": {
             "fill": {
              "color": "#EBF0F8"
             },
             "line": {
              "color": "white"
             }
            },
            "header": {
             "fill": {
              "color": "#C8D4E3"
             },
             "line": {
              "color": "white"
             }
            },
            "type": "table"
           }
          ]
         },
         "layout": {
          "annotationdefaults": {
           "arrowcolor": "#2a3f5f",
           "arrowhead": 0,
           "arrowwidth": 1
          },
          "autotypenumbers": "strict",
          "coloraxis": {
           "colorbar": {
            "outlinewidth": 0,
            "ticks": ""
           }
          },
          "colorscale": {
           "diverging": [
            [
             0,
             "#8e0152"
            ],
            [
             0.1,
             "#c51b7d"
            ],
            [
             0.2,
             "#de77ae"
            ],
            [
             0.3,
             "#f1b6da"
            ],
            [
             0.4,
             "#fde0ef"
            ],
            [
             0.5,
             "#f7f7f7"
            ],
            [
             0.6,
             "#e6f5d0"
            ],
            [
             0.7,
             "#b8e186"
            ],
            [
             0.8,
             "#7fbc41"
            ],
            [
             0.9,
             "#4d9221"
            ],
            [
             1,
             "#276419"
            ]
           ],
           "sequential": [
            [
             0,
             "#0d0887"
            ],
            [
             0.1111111111111111,
             "#46039f"
            ],
            [
             0.2222222222222222,
             "#7201a8"
            ],
            [
             0.3333333333333333,
             "#9c179e"
            ],
            [
             0.4444444444444444,
             "#bd3786"
            ],
            [
             0.5555555555555556,
             "#d8576b"
            ],
            [
             0.6666666666666666,
             "#ed7953"
            ],
            [
             0.7777777777777778,
             "#fb9f3a"
            ],
            [
             0.8888888888888888,
             "#fdca26"
            ],
            [
             1,
             "#f0f921"
            ]
           ],
           "sequentialminus": [
            [
             0,
             "#0d0887"
            ],
            [
             0.1111111111111111,
             "#46039f"
            ],
            [
             0.2222222222222222,
             "#7201a8"
            ],
            [
             0.3333333333333333,
             "#9c179e"
            ],
            [
             0.4444444444444444,
             "#bd3786"
            ],
            [
             0.5555555555555556,
             "#d8576b"
            ],
            [
             0.6666666666666666,
             "#ed7953"
            ],
            [
             0.7777777777777778,
             "#fb9f3a"
            ],
            [
             0.8888888888888888,
             "#fdca26"
            ],
            [
             1,
             "#f0f921"
            ]
           ]
          },
          "colorway": [
           "#636efa",
           "#EF553B",
           "#00cc96",
           "#ab63fa",
           "#FFA15A",
           "#19d3f3",
           "#FF6692",
           "#B6E880",
           "#FF97FF",
           "#FECB52"
          ],
          "font": {
           "color": "#2a3f5f"
          },
          "geo": {
           "bgcolor": "white",
           "lakecolor": "white",
           "landcolor": "#E5ECF6",
           "showlakes": true,
           "showland": true,
           "subunitcolor": "white"
          },
          "hoverlabel": {
           "align": "left"
          },
          "hovermode": "closest",
          "mapbox": {
           "style": "light"
          },
          "paper_bgcolor": "white",
          "plot_bgcolor": "#E5ECF6",
          "polar": {
           "angularaxis": {
            "gridcolor": "white",
            "linecolor": "white",
            "ticks": ""
           },
           "bgcolor": "#E5ECF6",
           "radialaxis": {
            "gridcolor": "white",
            "linecolor": "white",
            "ticks": ""
           }
          },
          "scene": {
           "xaxis": {
            "backgroundcolor": "#E5ECF6",
            "gridcolor": "white",
            "gridwidth": 2,
            "linecolor": "white",
            "showbackground": true,
            "ticks": "",
            "zerolinecolor": "white"
           },
           "yaxis": {
            "backgroundcolor": "#E5ECF6",
            "gridcolor": "white",
            "gridwidth": 2,
            "linecolor": "white",
            "showbackground": true,
            "ticks": "",
            "zerolinecolor": "white"
           },
           "zaxis": {
            "backgroundcolor": "#E5ECF6",
            "gridcolor": "white",
            "gridwidth": 2,
            "linecolor": "white",
            "showbackground": true,
            "ticks": "",
            "zerolinecolor": "white"
           }
          },
          "shapedefaults": {
           "line": {
            "color": "#2a3f5f"
           }
          },
          "ternary": {
           "aaxis": {
            "gridcolor": "white",
            "linecolor": "white",
            "ticks": ""
           },
           "baxis": {
            "gridcolor": "white",
            "linecolor": "white",
            "ticks": ""
           },
           "bgcolor": "#E5ECF6",
           "caxis": {
            "gridcolor": "white",
            "linecolor": "white",
            "ticks": ""
           }
          },
          "title": {
           "x": 0.05
          },
          "xaxis": {
           "automargin": true,
           "gridcolor": "white",
           "linecolor": "white",
           "ticks": "",
           "title": {
            "standoff": 15
           },
           "zerolinecolor": "white",
           "zerolinewidth": 2
          },
          "yaxis": {
           "automargin": true,
           "gridcolor": "white",
           "linecolor": "white",
           "ticks": "",
           "title": {
            "standoff": 15
           },
           "zerolinecolor": "white",
           "zerolinewidth": 2
          }
         }
        },
        "xaxis": {
         "anchor": "y",
         "domain": [
          0,
          1
         ],
         "title": {
          "text": "value"
         }
        },
        "yaxis": {
         "anchor": "x",
         "domain": [
          0,
          1
         ],
         "title": {
          "text": "count"
         }
        }
       }
      }
     },
     "metadata": {},
     "output_type": "display_data"
    }
   ],
   "source": [
    "measurements = [phi_plus.measure_bitstring() for _ in range(1000)]\n",
    "px.histogram(measurements)"
   ]
  },
  {
   "cell_type": "markdown",
   "metadata": {},
   "source": [
    "# Interoperability with other frameworks"
   ]
  },
  {
   "cell_type": "markdown",
   "metadata": {},
   "source": [
    "Lots of `skq` objects can be converted to Qiskit or OpenQASM. This includes state vectors, density matrices, gates and circuits."
   ]
  },
  {
   "cell_type": "code",
   "execution_count": 12,
   "metadata": {},
   "outputs": [
    {
     "name": "stdout",
     "output_type": "stream",
     "text": [
      "Statevector([0.70710678+0.j, 0.        +0.j, 0.        +0.j,\n",
      "             0.70710678+0.j],\n",
      "            dims=(2, 2))\n"
     ]
    }
   ],
   "source": [
    "phi_plus.to_qiskit()"
   ]
  },
  {
   "cell_type": "code",
   "execution_count": 13,
   "metadata": {},
   "outputs": [
    {
     "data": {
      "image/png": "[encoded data removed]",
      "text/plain": [
       "<Figure size 287.294x200.667 with 1 Axes>"
      ]
     },
     "execution_count": 13,
     "metadata": {},
     "output_type": "execute_result"
    }
   ],
   "source": [
    "qc = pipe.convert(framework=\"qiskit\")\n",
    "qc.draw(output=\"mpl\")"
   ]
  },
  {
   "cell_type": "code",
   "execution_count": 14,
   "metadata": {},
   "outputs": [
    {
     "data": {
      "text/plain": [
       "<qiskit.circuit.quantumcircuit.QuantumCircuit at 0x310225b80>"
      ]
     },
     "execution_count": 14,
     "metadata": {},
     "output_type": "execute_result"
    }
   ],
   "source": [
    "qc"
   ]
  },
  {
   "cell_type": "code",
   "execution_count": 15,
   "metadata": {},
   "outputs": [
    {
     "name": "stdout",
     "output_type": "stream",
     "text": [
      "OPENQASM 2.0;\n",
      "include \"qelib1.inc\";\n",
      "qreg q[2];\n",
      "h q[0];\n",
      "cx q[0], q[1];\n"
     ]
    }
   ],
   "source": [
    "print(pipe.convert(framework=\"qasm\"))"
   ]
  }
 ],
 "metadata": {
  "kernelspec": {
   "display_name": "q",
   "language": "python",
   "name": "python3"
  },
  "language_info": {
   "codemirror_mode": {
    "name": "ipython",
    "version": 3
   },
   "file_extension": ".py",
   "mimetype": "text/x-python",
   "name": "python",
   "nbconvert_exporter": "python",
   "pygments_lexer": "ipython3",
   "version": "3.12.4"
  }
 },
 "nbformat": 4,
 "nbformat_minor": 2
}
